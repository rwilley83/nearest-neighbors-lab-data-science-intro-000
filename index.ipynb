{
 "cells": [
  {
   "cell_type": "markdown",
   "metadata": {},
   "source": [
    "# Nearest Neighbors Lab"
   ]
  },
  {
   "cell_type": "markdown",
   "metadata": {},
   "source": [
    "### Introduction\n",
    "\n",
    "In this lab, you apply nearest neighbors technique to help a taxi company predict the length of their rides.  Imagine that we are hired to consult for LiftOff, a limo and taxi service that is just opening up in NYC.  Liftoff wants it's taxi drivers to target longer rides, as the longer the ride the more money it makes.  LiftOff has the following theory:\n",
    "\n",
    "* the pickup location of a taxi ride can help predict the length of the ride.  \n",
    "\n",
    "\n",
    "\n",
    "LiftOff asks us to do some analysis to write a function that will allow it to **predict the length of a taxi ride for any given location **.\n",
    "\n",
    "Our technique will be the following:\n",
    "  * **Collect** Obtain the data containing all of the taxi information, and only select the attributes of taxi trips that we need \n",
    "  * ** Explore ** Examine the attributes of our data, and plot some of our data on a map\n",
    "  * ** Train ** Write our nearest neighbors formula, and change the number of nearby trips to predict the length of a new trip\n",
    "  * ** Predict ** Use our function to predict trip lengths of new locations"
   ]
  },
  {
   "cell_type": "markdown",
   "metadata": {},
   "source": [
    "### Collect and Explore the data"
   ]
  },
  {
   "cell_type": "markdown",
   "metadata": {},
   "source": [
    "#### Collect the Data"
   ]
  },
  {
   "cell_type": "markdown",
   "metadata": {},
   "source": [
    "Luckily for us, [NYC Open Data](https://opendata.cityofnewyork.us/) collects information about NYC taxi trips and provides this data on [its website](https://data.cityofnewyork.us/Transportation/2014-Yellow-Taxi-Trip-Data/gn7m-em8n)."
   ]
  },
  {
   "cell_type": "markdown",
   "metadata": {},
   "source": [
    "![](./nyc-taxi.png)"
   ]
  },
  {
   "cell_type": "markdown",
   "metadata": {},
   "source": [
    "For your reading pleasure, the data has already been downloaded into the [trips.json](https://github.com/learn-co-curriculum/nearest-neighbors-lab/blob/master/trips.json) file in this lab which you can find here.  We'll use Python's `json` library to take the data from the `trips.json` file and store it as a variable in our notebook."
   ]
  },
  {
   "cell_type": "code",
   "execution_count": 69,
   "metadata": {},
   "outputs": [],
   "source": [
    "import json\n",
    "# First, read the file\n",
    "trips_file = open('trips.json')\n",
    "# Then, convert contents to list of dictionaries \n",
    "trips = json.load(trips_file)"
   ]
  },
  {
   "cell_type": "markdown",
   "metadata": {},
   "source": [
    "> Press shift + enter"
   ]
  },
  {
   "cell_type": "markdown",
   "metadata": {},
   "source": [
    "#### Explore the data"
   ]
  },
  {
   "cell_type": "markdown",
   "metadata": {},
   "source": [
    "The next step is to explore the data.  First, let's see how many trips we have."
   ]
  },
  {
   "cell_type": "code",
   "execution_count": 70,
   "metadata": {},
   "outputs": [
    {
     "data": {
      "text/plain": [
       "1000"
      ]
     },
     "execution_count": 70,
     "metadata": {},
     "output_type": "execute_result"
    }
   ],
   "source": [
    "len(trips)"
   ]
  },
  {
   "cell_type": "markdown",
   "metadata": {},
   "source": [
    "Not bad at all.  Now let's see what each individual trip looks like.  Each trip is a dictionary, so we can see the attributes of each trip with the `keys` function."
   ]
  },
  {
   "cell_type": "code",
   "execution_count": 71,
   "metadata": {
    "scrolled": true
   },
   "outputs": [
    {
     "data": {
      "text/plain": [
       "dict_keys(['dropoff_datetime', 'dropoff_latitude', 'dropoff_longitude', 'fare_amount', 'imp_surcharge', 'mta_tax', 'passenger_count', 'payment_type', 'pickup_datetime', 'pickup_latitude', 'pickup_longitude', 'rate_code', 'tip_amount', 'tolls_amount', 'total_amount', 'trip_distance', 'vendor_id'])"
      ]
     },
     "execution_count": 71,
     "metadata": {},
     "output_type": "execute_result"
    }
   ],
   "source": [
    "trips[0].keys()"
   ]
  },
  {
   "cell_type": "markdown",
   "metadata": {},
   "source": [
    "#### Limit our data"
   ]
  },
  {
   "cell_type": "markdown",
   "metadata": {},
   "source": [
    "Ok, now that we have explored some of our data, let's begin to think through what data is relevant for our task."
   ]
  },
  {
   "cell_type": "markdown",
   "metadata": {
    "collapsed": true
   },
   "source": [
    "Remember that our task is to **use the trip location to predict the length of a trip**.  So let's select the `pickup_latitude`, `pickup_longitude`, and `trip_distance` from each trip.  That will give us the trip location and related `trip_distance` for each trip.  Then based on these **actual** trip distances we can use nearest neighbors to predict an **expected** trip distance for a trip, provided an **actual** location."
   ]
  },
  {
   "cell_type": "markdown",
   "metadata": {},
   "source": [
    "** Add in about trip distance ** "
   ]
  },
  {
   "cell_type": "markdown",
   "metadata": {},
   "source": [
    "Write a function called `parse_trips(trips)` that returns a list of the trips with only the following attributes: \n",
    "* `trip_distance`\n",
    "* `pickup_latitude`\n",
    "* `pickup_longitude`"
   ]
  },
  {
   "cell_type": "code",
   "execution_count": 150,
   "metadata": {},
   "outputs": [],
   "source": [
    "def parse_trips(trips):\n",
    "    return list(map(lambda trip: {'trip_distance':trip['trip_distance'], 'pickup_latitude':trip['pickup_latitude'], 'pickup_longitude':trip['pickup_longitude']}, trips))"
   ]
  },
  {
   "cell_type": "code",
   "execution_count": 151,
   "metadata": {},
   "outputs": [
    {
     "data": {
      "text/plain": [
       "{'trip_distance': '18.379999999999999',\n",
       " 'pickup_latitude': '40.64499',\n",
       " 'pickup_longitude': '-73.781149999999997'}"
      ]
     },
     "execution_count": 151,
     "metadata": {},
     "output_type": "execute_result"
    }
   ],
   "source": [
    "parsed_trips = parse_trips(trips)\n",
    "parsed_trips and parsed_trips[0]\n",
    "\n",
    "# {'pickup_latitude': '40.64499',\n",
    "#  'pickup_longitude': '-73.78115',\n",
    "#  'trip_distance': '18.38'}"
   ]
  },
  {
   "cell_type": "markdown",
   "metadata": {},
   "source": [
    "Now, there's just one change to make.  If you look at one of the trips, all of the values are strings.  Let's change them to be floats."
   ]
  },
  {
   "cell_type": "code",
   "execution_count": 152,
   "metadata": {},
   "outputs": [],
   "source": [
    "def float_values(trips):    \n",
    "    return list(map(lambda trip: {'trip_distance':float(trip['trip_distance']), 'pickup_latitude':float(trip['pickup_latitude']), 'pickup_longitude':float(trip['pickup_longitude'])}, trips))"
   ]
  },
  {
   "cell_type": "code",
   "execution_count": 153,
   "metadata": {},
   "outputs": [],
   "source": [
    "cleaned_trips = float_values(parsed_trips)"
   ]
  },
  {
   "cell_type": "code",
   "execution_count": 154,
   "metadata": {},
   "outputs": [
    {
     "data": {
      "text/plain": [
       "{'trip_distance': 18.38,\n",
       " 'pickup_latitude': 40.64499,\n",
       " 'pickup_longitude': -73.78115}"
      ]
     },
     "execution_count": 154,
     "metadata": {},
     "output_type": "execute_result"
    }
   ],
   "source": [
    "cleaned_trips[0]\n",
    "\n",
    "# {'pickup_latitude': 40.64499,\n",
    "#  'pickup_longitude': -73.78115,\n",
    "#  'trip_distance': 18.38}"
   ]
  },
  {
   "cell_type": "markdown",
   "metadata": {},
   "source": [
    "### Exploring the Data"
   ]
  },
  {
   "cell_type": "markdown",
   "metadata": {},
   "source": [
    "Now that we have paired down our data, let's get a sense of our trip data.  We can use the `folium` Python library to plot a map of Manhattan, and our data.  First we must import `folium`, and then use the `Map` function to pass through a `location`, and `zoom_start`.  If a map isn't showing up below, copy and paste the command `pip install -r requirements.txt` into your terminal to install `folium` then try again."
   ]
  },
  {
   "cell_type": "code",
   "execution_count": 108,
   "metadata": {},
   "outputs": [],
   "source": [
    "import folium\n",
    "manhattan_map = folium.Map(location=[40.7589, -73.9851], zoom_start=11)"
   ]
  },
  {
   "cell_type": "code",
   "execution_count": 109,
   "metadata": {
    "scrolled": true
   },
   "outputs": [
    {
     "data": {
      "text/html": [
       "<div style=\"width:100%;\"><div style=\"position:relative;width:100%;height:0;padding-bottom:60%;\"><iframe src=\"data:text/html;charset=utf-8;base64,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\" style=\"position:absolute;width:100%;height:100%;left:0;top:0;border:none !important;\" allowfullscreen webkitallowfullscreen mozallowfullscreen></iframe></div></div>"
      ],
      "text/plain": [
       "<folium.folium.Map at 0x7fa728ee2048>"
      ]
     },
     "execution_count": 109,
     "metadata": {},
     "output_type": "execute_result"
    }
   ],
   "source": [
    "manhattan_map"
   ]
  },
  {
   "cell_type": "markdown",
   "metadata": {},
   "source": [
    "Ok, now let's see how we could add a dot to mark a specific location.  We'll start with Times Square."
   ]
  },
  {
   "cell_type": "code",
   "execution_count": 110,
   "metadata": {},
   "outputs": [
    {
     "data": {
      "text/plain": [
       "<folium.vector_layers.CircleMarker at 0x7fa728ee2cf8>"
      ]
     },
     "execution_count": 110,
     "metadata": {},
     "output_type": "execute_result"
    }
   ],
   "source": [
    "marker = folium.CircleMarker(location = [40.7589, -73.9851], radius=6)\n",
    "marker.add_to(manhattan_map)"
   ]
  },
  {
   "cell_type": "markdown",
   "metadata": {},
   "source": [
    "Above, we first create a marker.  Then we add that circle marker to the `manhattan_map` we created earlier. "
   ]
  },
  {
   "cell_type": "code",
   "execution_count": 111,
   "metadata": {
    "scrolled": false
   },
   "outputs": [
    {
     "data": {
      "text/html": [
       "<div style=\"width:100%;\"><div style=\"position:relative;width:100%;height:0;padding-bottom:60%;\"><iframe src=\"data:text/html;charset=utf-8;base64,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\" style=\"position:absolute;width:100%;height:100%;left:0;top:0;border:none !important;\" allowfullscreen webkitallowfullscreen mozallowfullscreen></iframe></div></div>"
      ],
      "text/plain": [
       "<folium.folium.Map at 0x7fa728ee2048>"
      ]
     },
     "execution_count": 111,
     "metadata": {},
     "output_type": "execute_result"
    }
   ],
   "source": [
    "manhattan_map"
   ]
  },
  {
   "cell_type": "markdown",
   "metadata": {},
   "source": [
    "Do you see that blue dot near Time's Square?  That is our marker.  \n",
    "\n",
    "So now that we can plot one marker on a map, we should have a sense of how we can plot many markers on a map to display our taxi ride data.  We simply plot a map, and then we add a marker for each location of a taxi trip.\n",
    "\n",
    "Now let's write some functions to allow us to plot maps and add markers a little more easily.  "
   ]
  },
  {
   "cell_type": "markdown",
   "metadata": {},
   "source": [
    "#### Writing some map plotting functions"
   ]
  },
  {
   "cell_type": "markdown",
   "metadata": {},
   "source": [
    "As a first step towards this, note that the functions to create both a marker and map each take in a location as two element list, representing the latitude and longitude values.  Take another look:\n",
    "\n",
    "```python\n",
    "marker = folium.CircleMarker(location = [40.7589, -73.9851])\n",
    "manhattan_map = folium.Map(location=[40.7589, -73.9851])\n",
    "```\n",
    "\n",
    "So let's write a function called to create this two element list from a trip.  Write a function called `location` that  takes in a trip as an argument and returns a list where the first element is the latitude and the second is the longitude.  Remember that a location looks like the following:"
   ]
  },
  {
   "cell_type": "code",
   "execution_count": 157,
   "metadata": {},
   "outputs": [
    {
     "data": {
      "text/plain": [
       "{'pickup_latitude': 40.64499,\n",
       " 'pickup_longitude': -73.78115,\n",
       " 'trip_distance': 18.38}"
      ]
     },
     "execution_count": 157,
     "metadata": {},
     "output_type": "execute_result"
    }
   ],
   "source": [
    "first_trip = {'pickup_latitude': 40.64499, 'pickup_longitude': -73.78115,  'trip_distance': 18.38}\n",
    "first_trip"
   ]
  },
  {
   "cell_type": "code",
   "execution_count": 164,
   "metadata": {},
   "outputs": [],
   "source": [
    "def location(trip):\n",
    "    return [trip['pickup_latitude'], trip['pickup_longitude']]"
   ]
  },
  {
   "cell_type": "code",
   "execution_count": 165,
   "metadata": {},
   "outputs": [
    {
     "data": {
      "text/plain": [
       "[40.64499, -73.78115]"
      ]
     },
     "execution_count": 165,
     "metadata": {},
     "output_type": "execute_result"
    }
   ],
   "source": [
    "first_location = location(first_trip) # [40.64499, -73.78115]\n",
    "first_location # [40.64499, -73.78115]"
   ]
  },
  {
   "cell_type": "markdown",
   "metadata": {},
   "source": [
    "Ok, now that we can turn a trip into a location, let's turn a location into a marker.  Write a function called `to_marker` that takes in a location (in the form of a list) as an argument, and returns a folium `circleMarker` for that location.  The radius of the marker should always equal 6."
   ]
  },
  {
   "cell_type": "code",
   "execution_count": 166,
   "metadata": {},
   "outputs": [],
   "source": [
    "def to_marker(location):\n",
    "    return folium.CircleMarker(location, radius=6)"
   ]
  },
  {
   "cell_type": "code",
   "execution_count": 167,
   "metadata": {},
   "outputs": [
    {
     "data": {
      "text/plain": [
       "6"
      ]
     },
     "execution_count": 167,
     "metadata": {},
     "output_type": "execute_result"
    }
   ],
   "source": [
    "import json\n",
    "times_square_marker = to_marker([40.7589, -73.9851])\n",
    "\n",
    "times_square_marker and times_square_marker.location # [40.7589, -73.9851]\n",
    "times_square_marker and json.loads(times_square_marker.options)['radius'] # 6"
   ]
  },
  {
   "cell_type": "markdown",
   "metadata": {},
   "source": [
    "Ok, now that we know how to produce a single marker, let's write a function to produce lots.  We can write a function called `markers_from_trips` that takes in a list of trips, and returns a marker object for each trip.  "
   ]
  },
  {
   "cell_type": "code",
   "execution_count": 172,
   "metadata": {},
   "outputs": [],
   "source": [
    "def markers_from_trips(trips):\n",
    "    locations = list(map(lambda trip: location(trip), trips))\n",
    "    return list(map(lambda location: to_marker(location), locations))"
   ]
  },
  {
   "cell_type": "code",
   "execution_count": 173,
   "metadata": {},
   "outputs": [],
   "source": [
    "trip_markers = markers_from_trips(cleaned_trips)"
   ]
  },
  {
   "cell_type": "code",
   "execution_count": 119,
   "metadata": {},
   "outputs": [
    {
     "data": {
      "text/plain": [
       "[{'trip_distance': 18.38,\n",
       "  'pickup_latitude': 40.64499,\n",
       "  'pickup_longitude': -73.78115},\n",
       " {'trip_distance': 1.3,\n",
       "  'pickup_latitude': 40.766931,\n",
       "  'pickup_longitude': -73.982098},\n",
       " {'trip_distance': 4.5,\n",
       "  'pickup_latitude': 40.77773,\n",
       "  'pickup_longitude': -73.951902},\n",
       " {'trip_distance': 2.4,\n",
       "  'pickup_latitude': 40.795678,\n",
       "  'pickup_longitude': -73.971049}]"
      ]
     },
     "execution_count": 119,
     "metadata": {},
     "output_type": "execute_result"
    }
   ],
   "source": [
    "cleaned_trips[0:4]"
   ]
  },
  {
   "cell_type": "code",
   "execution_count": 174,
   "metadata": {},
   "outputs": [
    {
     "data": {
      "text/plain": [
       "[[40.64499, -73.78115],\n",
       " [40.766931, -73.982098],\n",
       " [40.77773, -73.951902],\n",
       " [40.795678, -73.971049]]"
      ]
     },
     "execution_count": 174,
     "metadata": {},
     "output_type": "execute_result"
    }
   ],
   "source": [
    "trip_markers and len(trip_markers) # 1000\n",
    "\n",
    "list(map(lambda marker: marker.location, trip_markers[0:4]))\n",
    "# [[40.64499, -73.78115],\n",
    "#  [40.766931, -73.982098],\n",
    "#  [40.77773, -73.951902],\n",
    "#  [40.795678, -73.971049]]"
   ]
  },
  {
   "cell_type": "markdown",
   "metadata": {},
   "source": [
    "Ok, now that we have a function that creates locations, and a function that creates markers, it is time to write a function to plot a map. \n",
    "\n",
    "Write a function called `map_from` that, provided the first argument of a list location and second argument an integer representing the `zoom_start`, returns a `folium` map the corresponding location and `zoom_start` attributes.\n",
    "\n",
    "> Hint: The following is how to write a map with folium:\n",
    "> ```python \n",
    "    folium.Map(location=location, zoom_start=zoom_amount)\n",
    "> ```"
   ]
  },
  {
   "cell_type": "code",
   "execution_count": 175,
   "metadata": {},
   "outputs": [],
   "source": [
    "def map_from(location, zoom_amount):\n",
    "    return folium.Map(location=location, zoom_start=zoom_amount)"
   ]
  },
  {
   "cell_type": "code",
   "execution_count": 176,
   "metadata": {},
   "outputs": [
    {
     "data": {
      "text/plain": [
       "15"
      ]
     },
     "execution_count": 176,
     "metadata": {},
     "output_type": "execute_result"
    }
   ],
   "source": [
    "times_square_map = map_from([40.7589, -73.9851], 15)\n",
    "times_square_map and times_square_map.location # [40.7589, -73.9851]\n",
    "times_square_map and times_square_map.zoom_start # 15"
   ]
  },
  {
   "cell_type": "code",
   "execution_count": 177,
   "metadata": {
    "scrolled": true
   },
   "outputs": [
    {
     "data": {
      "text/html": [
       "<div style=\"width:100%;\"><div style=\"position:relative;width:100%;height:0;padding-bottom:60%;\"><iframe src=\"data:text/html;charset=utf-8;base64,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\" style=\"position:absolute;width:100%;height:100%;left:0;top:0;border:none !important;\" allowfullscreen webkitallowfullscreen mozallowfullscreen></iframe></div></div>"
      ],
      "text/plain": [
       "<folium.folium.Map at 0x7fa710374588>"
      ]
     },
     "execution_count": 177,
     "metadata": {},
     "output_type": "execute_result"
    }
   ],
   "source": [
    "times_square_marker and times_square_marker.add_to(times_square_map)\n",
    "times_square_map"
   ]
  },
  {
   "cell_type": "markdown",
   "metadata": {},
   "source": [
    "Now that we have a marker and a map, now let's write a function that adds a lot of markers to a map.  This function should add each marker in the list to the map object then return the updated map object."
   ]
  },
  {
   "cell_type": "code",
   "execution_count": 124,
   "metadata": {},
   "outputs": [],
   "source": [
    "manhattan_map = map_from([40.7589, -73.9851], 13)"
   ]
  },
  {
   "cell_type": "code",
   "execution_count": 178,
   "metadata": {},
   "outputs": [],
   "source": [
    "def add_markers(markers, map_obj):\n",
    "#    for marker in markers:\n",
    " #       marker.add_to(map_obj)\n",
    "  #  return map_obj\n",
    "    return list(map(lambda marker: marker.add_to(map_obj), markers))"
   ]
  },
  {
   "cell_type": "code",
   "execution_count": 179,
   "metadata": {
    "scrolled": false
   },
   "outputs": [],
   "source": [
    "map_with_markers = add_markers(trip_markers, manhattan_map)"
   ]
  },
  {
   "cell_type": "code",
   "execution_count": 181,
   "metadata": {},
   "outputs": [
    {
     "data": {
      "text/plain": [
       "[<folium.vector_layers.CircleMarker at 0x7fa70ff9c7b8>,\n",
       " <folium.vector_layers.CircleMarker at 0x7fa70ff9ca58>,\n",
       " <folium.vector_layers.CircleMarker at 0x7fa70ff9cac8>,\n",
       " <folium.vector_layers.CircleMarker at 0x7fa70ff9c6d8>,\n",
       " <folium.vector_layers.CircleMarker at 0x7fa70ff9c9b0>,\n",
       " <folium.vector_layers.CircleMarker at 0x7fa70ff9cba8>,\n",
       " <folium.vector_layers.CircleMarker at 0x7fa710326550>,\n",
       " <folium.vector_layers.CircleMarker at 0x7fa710326630>,\n",
       " <folium.vector_layers.CircleMarker at 0x7fa710326940>,\n",
       " <folium.vector_layers.CircleMarker at 0x7fa710326ac8>,\n",
       " <folium.vector_layers.CircleMarker at 0x7fa70ff9ccf8>,\n",
       " <folium.vector_layers.CircleMarker at 0x7fa70ff9c5f8>,\n",
       " <folium.vector_layers.CircleMarker at 0x7fa70ff9ca90>,\n",
       " <folium.vector_layers.CircleMarker at 0x7fa70ff9cc50>,\n",
       " <folium.vector_layers.CircleMarker at 0x7fa710326898>,\n",
       " <folium.vector_layers.CircleMarker at 0x7fa7103268d0>,\n",
       " <folium.vector_layers.CircleMarker at 0x7fa710326518>,\n",
       " <folium.vector_layers.CircleMarker at 0x7fa710326b70>,\n",
       " <folium.vector_layers.CircleMarker at 0x7fa710326ba8>,\n",
       " <folium.vector_layers.CircleMarker at 0x7fa7103264e0>,\n",
       " <folium.vector_layers.CircleMarker at 0x7fa710326b38>,\n",
       " <folium.vector_layers.CircleMarker at 0x7fa7103267b8>,\n",
       " <folium.vector_layers.CircleMarker at 0x7fa710326e10>,\n",
       " <folium.vector_layers.CircleMarker at 0x7fa710326eb8>,\n",
       " <folium.vector_layers.CircleMarker at 0x7fa710326f60>,\n",
       " <folium.vector_layers.CircleMarker at 0x7fa710326ef0>,\n",
       " <folium.vector_layers.CircleMarker at 0x7fa70fef8048>,\n",
       " <folium.vector_layers.CircleMarker at 0x7fa70fef8160>,\n",
       " <folium.vector_layers.CircleMarker at 0x7fa70fef8240>,\n",
       " <folium.vector_layers.CircleMarker at 0x7fa70fef82e8>,\n",
       " <folium.vector_layers.CircleMarker at 0x7fa710326be0>,\n",
       " <folium.vector_layers.CircleMarker at 0x7fa710326fd0>,\n",
       " <folium.vector_layers.CircleMarker at 0x7fa710326dd8>,\n",
       " <folium.vector_layers.CircleMarker at 0x7fa710326c88>,\n",
       " <folium.vector_layers.CircleMarker at 0x7fa710326c18>,\n",
       " <folium.vector_layers.CircleMarker at 0x7fa710326a90>,\n",
       " <folium.vector_layers.CircleMarker at 0x7fa7103269b0>,\n",
       " <folium.vector_layers.CircleMarker at 0x7fa710326a58>,\n",
       " <folium.vector_layers.CircleMarker at 0x7fa710326a20>,\n",
       " <folium.vector_layers.CircleMarker at 0x7fa70ff9c518>,\n",
       " <folium.vector_layers.CircleMarker at 0x7fa70ff9cbe0>,\n",
       " <folium.vector_layers.CircleMarker at 0x7fa70ff9c630>,\n",
       " <folium.vector_layers.CircleMarker at 0x7fa70fef8208>,\n",
       " <folium.vector_layers.CircleMarker at 0x7fa70fef83c8>,\n",
       " <folium.vector_layers.CircleMarker at 0x7fa70fef8470>,\n",
       " <folium.vector_layers.CircleMarker at 0x7fa70fef80b8>,\n",
       " <folium.vector_layers.CircleMarker at 0x7fa70fef8550>,\n",
       " <folium.vector_layers.CircleMarker at 0x7fa70fef85f8>,\n",
       " <folium.vector_layers.CircleMarker at 0x7fa70fef86a0>,\n",
       " <folium.vector_layers.CircleMarker at 0x7fa70fef8748>,\n",
       " <folium.vector_layers.CircleMarker at 0x7fa70fef87f0>,\n",
       " <folium.vector_layers.CircleMarker at 0x7fa70ff9c710>,\n",
       " <folium.vector_layers.CircleMarker at 0x7fa70ff9c898>,\n",
       " <folium.vector_layers.CircleMarker at 0x7fa710326908>,\n",
       " <folium.vector_layers.CircleMarker at 0x7fa710326f98>,\n",
       " <folium.vector_layers.CircleMarker at 0x7fa710326748>,\n",
       " <folium.vector_layers.CircleMarker at 0x7fa710326cc0>,\n",
       " <folium.vector_layers.CircleMarker at 0x7fa710326e48>,\n",
       " <folium.vector_layers.CircleMarker at 0x7fa710326d68>,\n",
       " <folium.vector_layers.CircleMarker at 0x7fa70fef8588>,\n",
       " <folium.vector_layers.CircleMarker at 0x7fa70fef84a8>,\n",
       " <folium.vector_layers.CircleMarker at 0x7fa70fef8518>,\n",
       " <folium.vector_layers.CircleMarker at 0x7fa70fef82b0>,\n",
       " <folium.vector_layers.CircleMarker at 0x7fa70fef80f0>,\n",
       " <folium.vector_layers.CircleMarker at 0x7fa70fef88d0>,\n",
       " <folium.vector_layers.CircleMarker at 0x7fa70fef8978>,\n",
       " <folium.vector_layers.CircleMarker at 0x7fa70fef8400>,\n",
       " <folium.vector_layers.CircleMarker at 0x7fa70fef8a58>,\n",
       " <folium.vector_layers.CircleMarker at 0x7fa70fef8b00>,\n",
       " <folium.vector_layers.CircleMarker at 0x7fa70fef8ba8>,\n",
       " <folium.vector_layers.CircleMarker at 0x7fa70fef8c50>,\n",
       " <folium.vector_layers.CircleMarker at 0x7fa70fef8cf8>,\n",
       " <folium.vector_layers.CircleMarker at 0x7fa710326400>,\n",
       " <folium.vector_layers.CircleMarker at 0x7fa70ff60f60>,\n",
       " <folium.vector_layers.CircleMarker at 0x7fa728edfeb8>,\n",
       " <folium.vector_layers.CircleMarker at 0x7fa70ff9c6a0>,\n",
       " <folium.vector_layers.CircleMarker at 0x7fa710326f28>,\n",
       " <folium.vector_layers.CircleMarker at 0x7fa7103269e8>,\n",
       " <folium.vector_layers.CircleMarker at 0x7fa70ff45550>,\n",
       " <folium.vector_layers.CircleMarker at 0x7fa70ff45748>,\n",
       " <folium.vector_layers.CircleMarker at 0x7fa70ff45630>,\n",
       " <folium.vector_layers.CircleMarker at 0x7fa70ff45940>,\n",
       " <folium.vector_layers.CircleMarker at 0x7fa70ff45a90>,\n",
       " <folium.vector_layers.CircleMarker at 0x7fa70ff450f0>,\n",
       " <folium.vector_layers.CircleMarker at 0x7fa70fef8a90>,\n",
       " <folium.vector_layers.CircleMarker at 0x7fa70fef89b0>,\n",
       " <folium.vector_layers.CircleMarker at 0x7fa70fef8a20>,\n",
       " <folium.vector_layers.CircleMarker at 0x7fa70fef8438>,\n",
       " <folium.vector_layers.CircleMarker at 0x7fa70fef8390>,\n",
       " <folium.vector_layers.CircleMarker at 0x7fa70fef8710>,\n",
       " <folium.vector_layers.CircleMarker at 0x7fa70fef8278>,\n",
       " <folium.vector_layers.CircleMarker at 0x7fa70fef8630>,\n",
       " <folium.vector_layers.CircleMarker at 0x7fa70fef8860>,\n",
       " <folium.vector_layers.CircleMarker at 0x7fa70fef8dd8>,\n",
       " <folium.vector_layers.CircleMarker at 0x7fa70fef8e80>,\n",
       " <folium.vector_layers.CircleMarker at 0x7fa710854518>,\n",
       " <folium.vector_layers.CircleMarker at 0x7fa710290898>,\n",
       " <folium.vector_layers.CircleMarker at 0x7fa7107f2e48>,\n",
       " <folium.vector_layers.CircleMarker at 0x7fa7107f2908>,\n",
       " <folium.vector_layers.CircleMarker at 0x7fa70ff45eb8>,\n",
       " <folium.vector_layers.CircleMarker at 0x7fa70ff45908>,\n",
       " <folium.vector_layers.CircleMarker at 0x7fa70ff455f8>,\n",
       " <folium.vector_layers.CircleMarker at 0x7fa70ff45400>,\n",
       " <folium.vector_layers.CircleMarker at 0x7fa70ff45518>,\n",
       " <folium.vector_layers.CircleMarker at 0x7fa70ff452b0>,\n",
       " <folium.vector_layers.CircleMarker at 0x7fa710059588>,\n",
       " <folium.vector_layers.CircleMarker at 0x7fa7100595f8>,\n",
       " <folium.vector_layers.CircleMarker at 0x7fa710059518>,\n",
       " <folium.vector_layers.CircleMarker at 0x7fa710059630>,\n",
       " <folium.vector_layers.CircleMarker at 0x7fa710059a90>,\n",
       " <folium.vector_layers.CircleMarker at 0x7fa710059b00>,\n",
       " <folium.vector_layers.CircleMarker at 0x7fa710059c18>,\n",
       " <folium.vector_layers.CircleMarker at 0x7fa70ff459e8>,\n",
       " <folium.vector_layers.CircleMarker at 0x7fa70ff454e0>,\n",
       " <folium.vector_layers.CircleMarker at 0x7fa710849320>,\n",
       " <folium.vector_layers.CircleMarker at 0x7fa710854710>,\n",
       " <folium.vector_layers.CircleMarker at 0x7fa70ff457b8>,\n",
       " <folium.vector_layers.CircleMarker at 0x7fa7107f2d30>,\n",
       " <folium.vector_layers.CircleMarker at 0x7fa7107f2978>,\n",
       " <folium.vector_layers.CircleMarker at 0x7fa710059710>,\n",
       " <folium.vector_layers.CircleMarker at 0x7fa710059550>,\n",
       " <folium.vector_layers.CircleMarker at 0x7fa710059748>,\n",
       " <folium.vector_layers.CircleMarker at 0x7fa7100594e0>,\n",
       " <folium.vector_layers.CircleMarker at 0x7fa710059cf8>,\n",
       " <folium.vector_layers.CircleMarker at 0x7fa7100599e8>,\n",
       " <folium.vector_layers.CircleMarker at 0x7fa710059438>,\n",
       " <folium.vector_layers.CircleMarker at 0x7fa710059978>,\n",
       " <folium.vector_layers.CircleMarker at 0x7fa710059d30>,\n",
       " <folium.vector_layers.CircleMarker at 0x7fa710059f28>,\n",
       " <folium.vector_layers.CircleMarker at 0x7fa710059e80>,\n",
       " <folium.vector_layers.CircleMarker at 0x7fa710059128>,\n",
       " <folium.vector_layers.CircleMarker at 0x7fa710266748>,\n",
       " <folium.vector_layers.CircleMarker at 0x7fa70ff9c0b8>,\n",
       " <folium.vector_layers.CircleMarker at 0x7fa710b66ba8>,\n",
       " <folium.vector_layers.CircleMarker at 0x7fa7107f2eb8>,\n",
       " <folium.vector_layers.CircleMarker at 0x7fa710b4ce80>,\n",
       " <folium.vector_layers.CircleMarker at 0x7fa70ff45780>,\n",
       " <folium.vector_layers.CircleMarker at 0x7fa70ff45860>,\n",
       " <folium.vector_layers.CircleMarker at 0x7fa710059400>,\n",
       " <folium.vector_layers.CircleMarker at 0x7fa710059c88>,\n",
       " <folium.vector_layers.CircleMarker at 0x7fa710059860>,\n",
       " <folium.vector_layers.CircleMarker at 0x7fa7100591d0>,\n",
       " <folium.vector_layers.CircleMarker at 0x7fa7100597b8>,\n",
       " <folium.vector_layers.CircleMarker at 0x7fa710059a58>,\n",
       " <folium.vector_layers.CircleMarker at 0x7fa710059ac8>,\n",
       " <folium.vector_layers.CircleMarker at 0x7fa710c29d30>,\n",
       " <folium.vector_layers.CircleMarker at 0x7fa7100597f0>,\n",
       " <folium.vector_layers.CircleMarker at 0x7fa710059470>,\n",
       " <folium.vector_layers.CircleMarker at 0x7fa710059ef0>,\n",
       " <folium.vector_layers.CircleMarker at 0x7fa7108a2940>,\n",
       " <folium.vector_layers.CircleMarker at 0x7fa7108a26a0>,\n",
       " <folium.vector_layers.CircleMarker at 0x7fa7108a26d8>,\n",
       " <folium.vector_layers.CircleMarker at 0x7fa7107e97f0>,\n",
       " <folium.vector_layers.CircleMarker at 0x7fa7107e9cf8>,\n",
       " <folium.vector_layers.CircleMarker at 0x7fa710c29c88>,\n",
       " <folium.vector_layers.CircleMarker at 0x7fa7108a2710>,\n",
       " <folium.vector_layers.CircleMarker at 0x7fa710059390>,\n",
       " <folium.vector_layers.CircleMarker at 0x7fa710059e10>,\n",
       " <folium.vector_layers.CircleMarker at 0x7fa710059b38>,\n",
       " <folium.vector_layers.CircleMarker at 0x7fa710059c50>,\n",
       " <folium.vector_layers.CircleMarker at 0x7fa7100592e8>,\n",
       " <folium.vector_layers.CircleMarker at 0x7fa710059780>,\n",
       " <folium.vector_layers.CircleMarker at 0x7fa710059fd0>,\n",
       " <folium.vector_layers.CircleMarker at 0x7fa7107f2f98>,\n",
       " <folium.vector_layers.CircleMarker at 0x7fa70ff9c1d0>,\n",
       " <folium.vector_layers.CircleMarker at 0x7fa70ff45320>,\n",
       " <folium.vector_layers.CircleMarker at 0x7fa70ff45240>,\n",
       " <folium.vector_layers.CircleMarker at 0x7fa7107e94a8>,\n",
       " <folium.vector_layers.CircleMarker at 0x7fa7107e9f28>,\n",
       " <folium.vector_layers.CircleMarker at 0x7fa7107e9eb8>,\n",
       " <folium.vector_layers.CircleMarker at 0x7fa7107e9dd8>,\n",
       " <folium.vector_layers.CircleMarker at 0x7fa7107e9f98>,\n",
       " <folium.vector_layers.CircleMarker at 0x7fa710811978>,\n",
       " <folium.vector_layers.CircleMarker at 0x7fa7108110f0>,\n",
       " <folium.vector_layers.CircleMarker at 0x7fa710811128>,\n",
       " <folium.vector_layers.CircleMarker at 0x7fa70ff9cc88>,\n",
       " <folium.vector_layers.CircleMarker at 0x7fa70ff45208>,\n",
       " <folium.vector_layers.CircleMarker at 0x7fa70ff45978>,\n",
       " <folium.vector_layers.CircleMarker at 0x7fa710059da0>,\n",
       " <folium.vector_layers.CircleMarker at 0x7fa7100596a0>,\n",
       " <folium.vector_layers.CircleMarker at 0x7fa710059828>,\n",
       " <folium.vector_layers.CircleMarker at 0x7fa7108a25c0>,\n",
       " <folium.vector_layers.CircleMarker at 0x7fa7108a2ac8>,\n",
       " <folium.vector_layers.CircleMarker at 0x7fa710059eb8>,\n",
       " <folium.vector_layers.CircleMarker at 0x7fa7107e9cc0>,\n",
       " <folium.vector_layers.CircleMarker at 0x7fa7107e9c88>,\n",
       " <folium.vector_layers.CircleMarker at 0x7fa7107e9048>,\n",
       " <folium.vector_layers.CircleMarker at 0x7fa710811b00>,\n",
       " <folium.vector_layers.CircleMarker at 0x7fa710811ac8>,\n",
       " <folium.vector_layers.CircleMarker at 0x7fa710811278>,\n",
       " <folium.vector_layers.CircleMarker at 0x7fa710811668>,\n",
       " <folium.vector_layers.CircleMarker at 0x7fa7108112e8>,\n",
       " <folium.vector_layers.CircleMarker at 0x7fa710811710>,\n",
       " <folium.vector_layers.CircleMarker at 0x7fa7108116a0>,\n",
       " <folium.vector_layers.CircleMarker at 0x7fa710811860>,\n",
       " <folium.vector_layers.CircleMarker at 0x7fa7108117b8>,\n",
       " <folium.vector_layers.CircleMarker at 0x7fa710811908>,\n",
       " <folium.vector_layers.CircleMarker at 0x7fa7107e9fd0>,\n",
       " <folium.vector_layers.CircleMarker at 0x7fa7108a2668>,\n",
       " <folium.vector_layers.CircleMarker at 0x7fa7107e9be0>,\n",
       " <folium.vector_layers.CircleMarker at 0x7fa70ff457f0>,\n",
       " <folium.vector_layers.CircleMarker at 0x7fa7107f2fd0>,\n",
       " <folium.vector_layers.CircleMarker at 0x7fa710059668>,\n",
       " <folium.vector_layers.CircleMarker at 0x7fa710059dd8>,\n",
       " <folium.vector_layers.CircleMarker at 0x7fa710059f60>,\n",
       " <folium.vector_layers.CircleMarker at 0x7fa710811470>,\n",
       " <folium.vector_layers.CircleMarker at 0x7fa7108113c8>,\n",
       " <folium.vector_layers.CircleMarker at 0x7fa710811160>,\n",
       " <folium.vector_layers.CircleMarker at 0x7fa710811080>,\n",
       " <folium.vector_layers.CircleMarker at 0x7fa710811cf8>,\n",
       " <folium.vector_layers.CircleMarker at 0x7fa7108114e0>,\n",
       " <folium.vector_layers.CircleMarker at 0x7fa710811780>,\n",
       " <folium.vector_layers.CircleMarker at 0x7fa7108115c0>,\n",
       " <folium.vector_layers.CircleMarker at 0x7fa7108118d0>,\n",
       " <folium.vector_layers.CircleMarker at 0x7fa710811828>,\n",
       " <folium.vector_layers.CircleMarker at 0x7fa730044eb8>,\n",
       " <folium.vector_layers.CircleMarker at 0x7fa730044c18>,\n",
       " <folium.vector_layers.CircleMarker at 0x7fa730190320>,\n",
       " <folium.vector_layers.CircleMarker at 0x7fa7300444a8>,\n",
       " <folium.vector_layers.CircleMarker at 0x7fa7102668d0>,\n",
       " <folium.vector_layers.CircleMarker at 0x7fa70ff458d0>,\n",
       " <folium.vector_layers.CircleMarker at 0x7fa7100595c0>,\n",
       " <folium.vector_layers.CircleMarker at 0x7fa710059ba8>,\n",
       " <folium.vector_layers.CircleMarker at 0x7fa7107e9e80>,\n",
       " <folium.vector_layers.CircleMarker at 0x7fa7107e9ef0>,\n",
       " <folium.vector_layers.CircleMarker at 0x7fa710811048>,\n",
       " <folium.vector_layers.CircleMarker at 0x7fa710811518>,\n",
       " <folium.vector_layers.CircleMarker at 0x7fa710811240>,\n",
       " <folium.vector_layers.CircleMarker at 0x7fa7108114a8>,\n",
       " <folium.vector_layers.CircleMarker at 0x7fa7108110b8>,\n",
       " <folium.vector_layers.CircleMarker at 0x7fa7108115f8>,\n",
       " <folium.vector_layers.CircleMarker at 0x7fa710811748>,\n",
       " <folium.vector_layers.CircleMarker at 0x7fa730044320>,\n",
       " <folium.vector_layers.CircleMarker at 0x7fa730044c88>,\n",
       " <folium.vector_layers.CircleMarker at 0x7fa710326128>,\n",
       " <folium.vector_layers.CircleMarker at 0x7fa710326048>,\n",
       " <folium.vector_layers.CircleMarker at 0x7fa710326240>,\n",
       " <folium.vector_layers.CircleMarker at 0x7fa710326d30>,\n",
       " <folium.vector_layers.CircleMarker at 0x7fa710326da0>,\n",
       " <folium.vector_layers.CircleMarker at 0x7fa7301ea048>,\n",
       " <folium.vector_layers.CircleMarker at 0x7fa730044358>,\n",
       " <folium.vector_layers.CircleMarker at 0x7fa730044c50>,\n",
       " <folium.vector_layers.CircleMarker at 0x7fa710811630>,\n",
       " <folium.vector_layers.CircleMarker at 0x7fa710811390>,\n",
       " <folium.vector_layers.CircleMarker at 0x7fa7108116d8>,\n",
       " <folium.vector_layers.CircleMarker at 0x7fa710811550>,\n",
       " <folium.vector_layers.CircleMarker at 0x7fa710811198>,\n",
       " <folium.vector_layers.CircleMarker at 0x7fa7301902e8>,\n",
       " <folium.vector_layers.CircleMarker at 0x7fa710059f98>,\n",
       " <folium.vector_layers.CircleMarker at 0x7fa710059940>,\n",
       " <folium.vector_layers.CircleMarker at 0x7fa7107e9ba8>,\n",
       " <folium.vector_layers.CircleMarker at 0x7fa710326cf8>,\n",
       " <folium.vector_layers.CircleMarker at 0x7fa7103261d0>,\n",
       " <folium.vector_layers.CircleMarker at 0x7fa710326c50>,\n",
       " <folium.vector_layers.CircleMarker at 0x7fa710326978>,\n",
       " <folium.vector_layers.CircleMarker at 0x7fa7103263c8>,\n",
       " <folium.vector_layers.CircleMarker at 0x7fa73018bb70>,\n",
       " <folium.vector_layers.CircleMarker at 0x7fa73018be48>,\n",
       " <folium.vector_layers.CircleMarker at 0x7fa73018b828>,\n",
       " <folium.vector_layers.CircleMarker at 0x7fa73018b4e0>,\n",
       " <folium.vector_layers.CircleMarker at 0x7fa73018bb00>,\n",
       " <folium.vector_layers.CircleMarker at 0x7fa728fe02e8>,\n",
       " <folium.vector_layers.CircleMarker at 0x7fa710326e80>,\n",
       " <folium.vector_layers.CircleMarker at 0x7fa710059be0>,\n",
       " <folium.vector_layers.CircleMarker at 0x7fa730190748>,\n",
       " <folium.vector_layers.CircleMarker at 0x7fa7107e9e10>,\n",
       " <folium.vector_layers.CircleMarker at 0x7fa7103262e8>,\n",
       " <folium.vector_layers.CircleMarker at 0x7fa7103266a0>,\n",
       " <folium.vector_layers.CircleMarker at 0x7fa710811438>,\n",
       " <folium.vector_layers.CircleMarker at 0x7fa730044f98>,\n",
       " <folium.vector_layers.CircleMarker at 0x7fa730044fd0>,\n",
       " <folium.vector_layers.CircleMarker at 0x7fa710811320>,\n",
       " <folium.vector_layers.CircleMarker at 0x7fa710811a20>,\n",
       " <folium.vector_layers.CircleMarker at 0x7fa73018b898>,\n",
       " <folium.vector_layers.CircleMarker at 0x7fa73018b710>,\n",
       " <folium.vector_layers.CircleMarker at 0x7fa73018b630>,\n",
       " <folium.vector_layers.CircleMarker at 0x7fa728faf2e8>,\n",
       " <folium.vector_layers.CircleMarker at 0x7fa73018ba58>,\n",
       " <folium.vector_layers.CircleMarker at 0x7fa73018b940>,\n",
       " <folium.vector_layers.CircleMarker at 0x7fa728fb5710>,\n",
       " <folium.vector_layers.CircleMarker at 0x7fa728fb53c8>,\n",
       " <folium.vector_layers.CircleMarker at 0x7fa728fb2a58>,\n",
       " <folium.vector_layers.CircleMarker at 0x7fa728f3a630>,\n",
       " <folium.vector_layers.CircleMarker at 0x7fa728fb8ac8>,\n",
       " <folium.vector_layers.CircleMarker at 0x7fa728f3ab70>,\n",
       " <folium.vector_layers.CircleMarker at 0x7fa728fb5e48>,\n",
       " <folium.vector_layers.CircleMarker at 0x7fa728fafef0>,\n",
       " <folium.vector_layers.CircleMarker at 0x7fa728fb27b8>,\n",
       " <folium.vector_layers.CircleMarker at 0x7fa728fe0438>,\n",
       " <folium.vector_layers.CircleMarker at 0x7fa73018b358>,\n",
       " <folium.vector_layers.CircleMarker at 0x7fa730044dd8>,\n",
       " <folium.vector_layers.CircleMarker at 0x7fa7107e9278>,\n",
       " <folium.vector_layers.CircleMarker at 0x7fa7108a2630>,\n",
       " <folium.vector_layers.CircleMarker at 0x7fa73018bcf8>,\n",
       " <folium.vector_layers.CircleMarker at 0x7fa7108112b0>,\n",
       " <folium.vector_layers.CircleMarker at 0x7fa7103260b8>,\n",
       " <folium.vector_layers.CircleMarker at 0x7fa710326390>,\n",
       " <folium.vector_layers.CircleMarker at 0x7fa710811940>,\n",
       " <folium.vector_layers.CircleMarker at 0x7fa728fb86a0>,\n",
       " <folium.vector_layers.CircleMarker at 0x7fa728fb8e80>,\n",
       " <folium.vector_layers.CircleMarker at 0x7fa728f41390>,\n",
       " <folium.vector_layers.CircleMarker at 0x7fa728f41fd0>,\n",
       " <folium.vector_layers.CircleMarker at 0x7fa728f416d8>,\n",
       " <folium.vector_layers.CircleMarker at 0x7fa728f449b0>,\n",
       " <folium.vector_layers.CircleMarker at 0x7fa728f44b00>,\n",
       " <folium.vector_layers.CircleMarker at 0x7fa728f4af28>,\n",
       " <folium.vector_layers.CircleMarker at 0x7fa728fb8160>,\n",
       " <folium.vector_layers.CircleMarker at 0x7fa710326198>,\n",
       " <folium.vector_layers.CircleMarker at 0x7fa728f442b0>,\n",
       " <folium.vector_layers.CircleMarker at 0x7fa7100594a8>,\n",
       " <folium.vector_layers.CircleMarker at 0x7fa7107e9198>,\n",
       " <folium.vector_layers.CircleMarker at 0x7fa728f41080>,\n",
       " <folium.vector_layers.CircleMarker at 0x7fa728f41470>,\n",
       " <folium.vector_layers.CircleMarker at 0x7fa710811358>,\n",
       " <folium.vector_layers.CircleMarker at 0x7fa728fafb38>,\n",
       " <folium.vector_layers.CircleMarker at 0x7fa728f3a320>,\n",
       " <folium.vector_layers.CircleMarker at 0x7fa728f4afd0>,\n",
       " <folium.vector_layers.CircleMarker at 0x7fa73018b4a8>,\n",
       " <folium.vector_layers.CircleMarker at 0x7fa728fb2908>,\n",
       " <folium.vector_layers.CircleMarker at 0x7fa728f472e8>,\n",
       " <folium.vector_layers.CircleMarker at 0x7fa728f471d0>,\n",
       " <folium.vector_layers.CircleMarker at 0x7fa73018bda0>,\n",
       " <folium.vector_layers.CircleMarker at 0x7fa728f536a0>,\n",
       " <folium.vector_layers.CircleMarker at 0x7fa728f4d940>,\n",
       " <folium.vector_layers.CircleMarker at 0x7fa728f50400>,\n",
       " <folium.vector_layers.CircleMarker at 0x7fa728f50160>,\n",
       " <folium.vector_layers.CircleMarker at 0x7fa728f56c18>,\n",
       " <folium.vector_layers.CircleMarker at 0x7fa728f47e10>,\n",
       " <folium.vector_layers.CircleMarker at 0x7fa728fb2198>,\n",
       " <folium.vector_layers.CircleMarker at 0x7fa728f4dbe0>,\n",
       " <folium.vector_layers.CircleMarker at 0x7fa728f4d240>,\n",
       " <folium.vector_layers.CircleMarker at 0x7fa728f50cf8>,\n",
       " <folium.vector_layers.CircleMarker at 0x7fa728fe0898>,\n",
       " <folium.vector_layers.CircleMarker at 0x7fa73018bc50>,\n",
       " <folium.vector_layers.CircleMarker at 0x7fa7108119e8>,\n",
       " <folium.vector_layers.CircleMarker at 0x7fa710059d68>,\n",
       " <folium.vector_layers.CircleMarker at 0x7fa728f41a90>,\n",
       " <folium.vector_layers.CircleMarker at 0x7fa73018b9b0>,\n",
       " <folium.vector_layers.CircleMarker at 0x7fa728fb8be0>,\n",
       " <folium.vector_layers.CircleMarker at 0x7fa728f44898>,\n",
       " <folium.vector_layers.CircleMarker at 0x7fa728f4acc0>,\n",
       " <folium.vector_layers.CircleMarker at 0x7fa728f56cc0>,\n",
       " <folium.vector_layers.CircleMarker at 0x7fa728f59438>,\n",
       " <folium.vector_layers.CircleMarker at 0x7fa728f56e80>,\n",
       " <folium.vector_layers.CircleMarker at 0x7fa728f56cf8>,\n",
       " <folium.vector_layers.CircleMarker at 0x7fa728f5c438>,\n",
       " <folium.vector_layers.CircleMarker at 0x7fa728f5cf98>,\n",
       " <folium.vector_layers.CircleMarker at 0x7fa728f5ff60>,\n",
       " <folium.vector_layers.CircleMarker at 0x7fa728f629b0>,\n",
       " <folium.vector_layers.CircleMarker at 0x7fa728f62128>,\n",
       " <folium.vector_layers.CircleMarker at 0x7fa728f59cc0>,\n",
       " <folium.vector_layers.CircleMarker at 0x7fa728f5f828>,\n",
       " <folium.vector_layers.CircleMarker at 0x7fa728f4a2b0>,\n",
       " <folium.vector_layers.CircleMarker at 0x7fa728fb5518>,\n",
       " <folium.vector_layers.CircleMarker at 0x7fa73018bd30>,\n",
       " <folium.vector_layers.CircleMarker at 0x7fa73018b5c0>,\n",
       " <folium.vector_layers.CircleMarker at 0x7fa728f470b8>,\n",
       " <folium.vector_layers.CircleMarker at 0x7fa728fb87f0>,\n",
       " <folium.vector_layers.CircleMarker at 0x7fa728f502b0>,\n",
       " <folium.vector_layers.CircleMarker at 0x7fa728f50748>,\n",
       " <folium.vector_layers.CircleMarker at 0x7fa710326080>,\n",
       " <folium.vector_layers.CircleMarker at 0x7fa710326b00>,\n",
       " <folium.vector_layers.CircleMarker at 0x7fa728f412b0>,\n",
       " <folium.vector_layers.CircleMarker at 0x7fa710811588>,\n",
       " <folium.vector_layers.CircleMarker at 0x7fa728f56f28>,\n",
       " <folium.vector_layers.CircleMarker at 0x7fa728f56f60>,\n",
       " <folium.vector_layers.CircleMarker at 0x7fa728f56ac8>,\n",
       " <folium.vector_layers.CircleMarker at 0x7fa728f563c8>,\n",
       " <folium.vector_layers.CircleMarker at 0x7fa728f69278>,\n",
       " <folium.vector_layers.CircleMarker at 0x7fa728f69940>,\n",
       " <folium.vector_layers.CircleMarker at 0x7fa728f66d30>,\n",
       " <folium.vector_layers.CircleMarker at 0x7fa728f695f8>,\n",
       " <folium.vector_layers.CircleMarker at 0x7fa728f66ba8>,\n",
       " <folium.vector_layers.CircleMarker at 0x7fa7100593c8>,\n",
       " <folium.vector_layers.CircleMarker at 0x7fa710326208>,\n",
       " <folium.vector_layers.CircleMarker at 0x7fa7301eada0>,\n",
       " <folium.vector_layers.CircleMarker at 0x7fa728fe0a90>,\n",
       " <folium.vector_layers.CircleMarker at 0x7fa728f47400>,\n",
       " <folium.vector_layers.CircleMarker at 0x7fa7108111d0>,\n",
       " <folium.vector_layers.CircleMarker at 0x7fa73018b6d8>,\n",
       " <folium.vector_layers.CircleMarker at 0x7fa730044e80>,\n",
       " <folium.vector_layers.CircleMarker at 0x7fa728f44748>,\n",
       " <folium.vector_layers.CircleMarker at 0x7fa728f5c748>,\n",
       " <folium.vector_layers.CircleMarker at 0x7fa728f6c278>,\n",
       " <folium.vector_layers.CircleMarker at 0x7fa728f4d128>,\n",
       " <folium.vector_layers.CircleMarker at 0x7fa728f6f470>,\n",
       " <folium.vector_layers.CircleMarker at 0x7fa728f6f940>,\n",
       " <folium.vector_layers.CircleMarker at 0x7fa728f72b00>,\n",
       " <folium.vector_layers.CircleMarker at 0x7fa728f75828>,\n",
       " <folium.vector_layers.CircleMarker at 0x7fa728efbeb8>,\n",
       " <folium.vector_layers.CircleMarker at 0x7fa728efeac8>,\n",
       " <folium.vector_layers.CircleMarker at 0x7fa728f56eb8>,\n",
       " <folium.vector_layers.CircleMarker at 0x7fa728f78588>,\n",
       " <folium.vector_layers.CircleMarker at 0x7fa728f04a58>,\n",
       " <folium.vector_layers.CircleMarker at 0x7fa728f75ac8>,\n",
       " <folium.vector_layers.CircleMarker at 0x7fa728efe160>,\n",
       " <folium.vector_layers.CircleMarker at 0x7fa728f6f748>,\n",
       " <folium.vector_layers.CircleMarker at 0x7fa728f6cda0>,\n",
       " <folium.vector_layers.CircleMarker at 0x7fa73018b780>,\n",
       " <folium.vector_layers.CircleMarker at 0x7fa710811208>,\n",
       " <folium.vector_layers.CircleMarker at 0x7fa728fb8d68>,\n",
       " <folium.vector_layers.CircleMarker at 0x7fa70ff9ccc0>,\n",
       " <folium.vector_layers.CircleMarker at 0x7fa728f72898>,\n",
       " <folium.vector_layers.CircleMarker at 0x7fa728f41828>,\n",
       " <folium.vector_layers.CircleMarker at 0x7fa728f666a0>,\n",
       " <folium.vector_layers.CircleMarker at 0x7fa728f78f98>,\n",
       " <folium.vector_layers.CircleMarker at 0x7fa728f56978>,\n",
       " <folium.vector_layers.CircleMarker at 0x7fa728f562b0>,\n",
       " <folium.vector_layers.CircleMarker at 0x7fa728f07278>,\n",
       " <folium.vector_layers.CircleMarker at 0x7fa728f077b8>,\n",
       " <folium.vector_layers.CircleMarker at 0x7fa728f0e8d0>,\n",
       " <folium.vector_layers.CircleMarker at 0x7fa728f01780>,\n",
       " <folium.vector_layers.CircleMarker at 0x7fa728f0aa90>,\n",
       " <folium.vector_layers.CircleMarker at 0x7fa728f0ae10>,\n",
       " <folium.vector_layers.CircleMarker at 0x7fa728f13fd0>,\n",
       " <folium.vector_layers.CircleMarker at 0x7fa728f0a5c0>,\n",
       " <folium.vector_layers.CircleMarker at 0x7fa728f0e080>,\n",
       " <folium.vector_layers.CircleMarker at 0x7fa728f11978>,\n",
       " <folium.vector_layers.CircleMarker at 0x7fa728f01be0>,\n",
       " <folium.vector_layers.CircleMarker at 0x7fa728f07518>,\n",
       " <folium.vector_layers.CircleMarker at 0x7fa7103265f8>,\n",
       " <folium.vector_layers.CircleMarker at 0x7fa728f72c88>,\n",
       " <folium.vector_layers.CircleMarker at 0x7fa728f4aeb8>,\n",
       " <folium.vector_layers.CircleMarker at 0x7fa73018bba8>,\n",
       " <folium.vector_layers.CircleMarker at 0x7fa728f6feb8>,\n",
       " <folium.vector_layers.CircleMarker at 0x7fa728efe780>,\n",
       " <folium.vector_layers.CircleMarker at 0x7fa728f75710>,\n",
       " <folium.vector_layers.CircleMarker at 0x7fa728f13ef0>,\n",
       " <folium.vector_layers.CircleMarker at 0x7fa728f56fd0>,\n",
       " <folium.vector_layers.CircleMarker at 0x7fa728f17358>,\n",
       " <folium.vector_layers.CircleMarker at 0x7fa728f1a358>,\n",
       " <folium.vector_layers.CircleMarker at 0x7fa728f1a978>,\n",
       " <folium.vector_layers.CircleMarker at 0x7fa728f1c0b8>,\n",
       " <folium.vector_layers.CircleMarker at 0x7fa728f17b00>,\n",
       " <folium.vector_layers.CircleMarker at 0x7fa728f25518>,\n",
       " <folium.vector_layers.CircleMarker at 0x7fa728f1fbe0>,\n",
       " <folium.vector_layers.CircleMarker at 0x7fa728f1f908>,\n",
       " <folium.vector_layers.CircleMarker at 0x7fa728f228d0>,\n",
       " <folium.vector_layers.CircleMarker at 0x7fa728f1aba8>,\n",
       " <folium.vector_layers.CircleMarker at 0x7fa728f509e8>,\n",
       " <folium.vector_layers.CircleMarker at 0x7fa728efbb70>,\n",
       " <folium.vector_layers.CircleMarker at 0x7fa728f5ce80>,\n",
       " <folium.vector_layers.CircleMarker at 0x7fa728fb29e8>,\n",
       " <folium.vector_layers.CircleMarker at 0x7fa728f1f668>,\n",
       " <folium.vector_layers.CircleMarker at 0x7fa728f729e8>,\n",
       " <folium.vector_layers.CircleMarker at 0x7fa728f41c18>,\n",
       " <folium.vector_layers.CircleMarker at 0x7fa728f56668>,\n",
       " <folium.vector_layers.CircleMarker at 0x7fa728f78438>,\n",
       " <folium.vector_layers.CircleMarker at 0x7fa728f0a898>,\n",
       " <folium.vector_layers.CircleMarker at 0x7fa728f01cf8>,\n",
       " <folium.vector_layers.CircleMarker at 0x7fa728f2bd30>,\n",
       " <folium.vector_layers.CircleMarker at 0x7fa728f32320>,\n",
       " <folium.vector_layers.CircleMarker at 0x7fa728f17668>,\n",
       " <folium.vector_layers.CircleMarker at 0x7fa728f28d30>,\n",
       " <folium.vector_layers.CircleMarker at 0x7fa728f28710>,\n",
       " <folium.vector_layers.CircleMarker at 0x7fa728f38828>,\n",
       " <folium.vector_layers.CircleMarker at 0x7fa728f35be0>,\n",
       " <folium.vector_layers.CircleMarker at 0x7fa728f35240>,\n",
       " <folium.vector_layers.CircleMarker at 0x7fa728ec0fd0>,\n",
       " <folium.vector_layers.CircleMarker at 0x7fa728f38b70>,\n",
       " <folium.vector_layers.CircleMarker at 0x7fa728f28470>,\n",
       " <folium.vector_layers.CircleMarker at 0x7fa728f28860>,\n",
       " <folium.vector_layers.CircleMarker at 0x7fa728f2b4a8>,\n",
       " <folium.vector_layers.CircleMarker at 0x7fa728f78320>,\n",
       " <folium.vector_layers.CircleMarker at 0x7fa728f66f60>,\n",
       " <folium.vector_layers.CircleMarker at 0x7fa710059e48>,\n",
       " <folium.vector_layers.CircleMarker at 0x7fa728f1fd68>,\n",
       " <folium.vector_layers.CircleMarker at 0x7fa728f59e10>,\n",
       " <folium.vector_layers.CircleMarker at 0x7fa728f177b8>,\n",
       " <folium.vector_layers.CircleMarker at 0x7fa728f17d68>,\n",
       " <folium.vector_layers.CircleMarker at 0x7fa728f1ce10>,\n",
       " <folium.vector_layers.CircleMarker at 0x7fa728f13208>,\n",
       " <folium.vector_layers.CircleMarker at 0x7fa728f35048>,\n",
       " <folium.vector_layers.CircleMarker at 0x7fa728ec36d8>,\n",
       " <folium.vector_layers.CircleMarker at 0x7fa728ebb780>,\n",
       " <folium.vector_layers.CircleMarker at 0x7fa728ebbef0>,\n",
       " <folium.vector_layers.CircleMarker at 0x7fa728ec6518>,\n",
       " <folium.vector_layers.CircleMarker at 0x7fa728ec6c50>,\n",
       " <folium.vector_layers.CircleMarker at 0x7fa728ebebe0>,\n",
       " <folium.vector_layers.CircleMarker at 0x7fa728eccda0>,\n",
       " <folium.vector_layers.CircleMarker at 0x7fa728ed07b8>,\n",
       " <folium.vector_layers.CircleMarker at 0x7fa728ecceb8>,\n",
       " <folium.vector_layers.CircleMarker at 0x7fa728ec3dd8>,\n",
       " <folium.vector_layers.CircleMarker at 0x7fa728f1c898>,\n",
       " <folium.vector_layers.CircleMarker at 0x7fa728f17908>,\n",
       " <folium.vector_layers.CircleMarker at 0x7fa728f6cf60>,\n",
       " <folium.vector_layers.CircleMarker at 0x7fa728f3e1d0>,\n",
       " <folium.vector_layers.CircleMarker at 0x7fa728f56470>,\n",
       " <folium.vector_layers.CircleMarker at 0x7fa728f2e668>,\n",
       " <folium.vector_layers.CircleMarker at 0x7fa728f28f28>,\n",
       " <folium.vector_layers.CircleMarker at 0x7fa728f38128>,\n",
       " <folium.vector_layers.CircleMarker at 0x7fa728ebe9b0>,\n",
       " <folium.vector_layers.CircleMarker at 0x7fa728ec6dd8>,\n",
       " <folium.vector_layers.CircleMarker at 0x7fa728ebbcf8>,\n",
       " <folium.vector_layers.CircleMarker at 0x7fa728ebb358>,\n",
       " <folium.vector_layers.CircleMarker at 0x7fa728f35e48>,\n",
       " <folium.vector_layers.CircleMarker at 0x7fa728ed3518>,\n",
       " <folium.vector_layers.CircleMarker at 0x7fa728ec92b0>,\n",
       " <folium.vector_layers.CircleMarker at 0x7fa728ec9550>,\n",
       " <folium.vector_layers.CircleMarker at 0x7fa728ed9128>,\n",
       " <folium.vector_layers.CircleMarker at 0x7fa728ed9a90>,\n",
       " <folium.vector_layers.CircleMarker at 0x7fa728ed6e48>,\n",
       " <folium.vector_layers.CircleMarker at 0x7fa728ed6c88>,\n",
       " <folium.vector_layers.CircleMarker at 0x7fa728ebbb70>,\n",
       " <folium.vector_layers.CircleMarker at 0x7fa728ed3668>,\n",
       " <folium.vector_layers.CircleMarker at 0x7fa728ed9ef0>,\n",
       " <folium.vector_layers.CircleMarker at 0x7fa728f324e0>,\n",
       " <folium.vector_layers.CircleMarker at 0x7fa728ebe5f8>,\n",
       " <folium.vector_layers.CircleMarker at 0x7fa728f568d0>,\n",
       " <folium.vector_layers.CircleMarker at 0x7fa728f1f7b8>,\n",
       " <folium.vector_layers.CircleMarker at 0x7fa728f4d4a8>,\n",
       " <folium.vector_layers.CircleMarker at 0x7fa728f1acc0>,\n",
       " <folium.vector_layers.CircleMarker at 0x7fa728ecc438>,\n",
       " <folium.vector_layers.CircleMarker at 0x7fa728ed0080>,\n",
       " <folium.vector_layers.CircleMarker at 0x7fa728f35710>,\n",
       " <folium.vector_layers.CircleMarker at 0x7fa728ec9710>,\n",
       " <folium.vector_layers.CircleMarker at 0x7fa728edcda0>,\n",
       " <folium.vector_layers.CircleMarker at 0x7fa728edc240>,\n",
       " <folium.vector_layers.CircleMarker at 0x7fa728edcdd8>,\n",
       " <folium.vector_layers.CircleMarker at 0x7fa728edc160>,\n",
       " <folium.vector_layers.CircleMarker at 0x7fa728edccf8>,\n",
       " <folium.vector_layers.CircleMarker at 0x7fa728edfcf8>,\n",
       " <folium.vector_layers.CircleMarker at 0x7fa728edf1d0>,\n",
       " <folium.vector_layers.CircleMarker at 0x7fa728edf320>,\n",
       " <folium.vector_layers.CircleMarker at 0x7fa728edccc0>,\n",
       " <folium.vector_layers.CircleMarker at 0x7fa728f35978>,\n",
       " <folium.vector_layers.CircleMarker at 0x7fa728f13828>,\n",
       " <folium.vector_layers.CircleMarker at 0x7fa728f5fc18>,\n",
       " <folium.vector_layers.CircleMarker at 0x7fa728f44198>,\n",
       " <folium.vector_layers.CircleMarker at 0x7fa728f01630>,\n",
       " <folium.vector_layers.CircleMarker at 0x7fa728ec9e48>,\n",
       " <folium.vector_layers.CircleMarker at 0x7fa728ec93c8>,\n",
       " <folium.vector_layers.CircleMarker at 0x7fa728ebef60>,\n",
       " <folium.vector_layers.CircleMarker at 0x7fa728edceb8>,\n",
       " <folium.vector_layers.CircleMarker at 0x7fa728ed97b8>,\n",
       " <folium.vector_layers.CircleMarker at 0x7fa728ed62b0>,\n",
       " <folium.vector_layers.CircleMarker at 0x7fa728ec66d8>,\n",
       " <folium.vector_layers.CircleMarker at 0x7fa728edf4a8>,\n",
       " <folium.vector_layers.CircleMarker at 0x7fa728edf2e8>,\n",
       " <folium.vector_layers.CircleMarker at 0x7fa728edf208>,\n",
       " <folium.vector_layers.CircleMarker at 0x7fa728edf4e0>,\n",
       " <folium.vector_layers.CircleMarker at 0x7fa728edf978>,\n",
       " <folium.vector_layers.CircleMarker at 0x7fa728edf898>,\n",
       " <folium.vector_layers.CircleMarker at 0x7fa728edf128>,\n",
       " <folium.vector_layers.CircleMarker at 0x7fa728edf5f8>,\n",
       " <folium.vector_layers.CircleMarker at 0x7fa728edf550>,\n",
       " <folium.vector_layers.CircleMarker at 0x7fa728ed6550>,\n",
       " <folium.vector_layers.CircleMarker at 0x7fa728ebe208>,\n",
       " <folium.vector_layers.CircleMarker at 0x7fa728f073c8>,\n",
       " <folium.vector_layers.CircleMarker at 0x7fa728ec3f28>,\n",
       " <folium.vector_layers.CircleMarker at 0x7fa728f0e4a8>,\n",
       " <folium.vector_layers.CircleMarker at 0x7fa728ec9898>,\n",
       " <folium.vector_layers.CircleMarker at 0x7fa728edc048>,\n",
       " <folium.vector_layers.CircleMarker at 0x7fa728edcef0>,\n",
       " <folium.vector_layers.CircleMarker at 0x7fa728edf780>,\n",
       " <folium.vector_layers.CircleMarker at 0x7fa728edf860>,\n",
       " <folium.vector_layers.CircleMarker at 0x7fa728edf6d8>,\n",
       " <folium.vector_layers.CircleMarker at 0x7fa728edf630>,\n",
       " <folium.vector_layers.CircleMarker at 0x7fa728edf240>,\n",
       " <folium.vector_layers.CircleMarker at 0x7fa728edf8d0>,\n",
       " <folium.vector_layers.CircleMarker at 0x7fa728edf588>,\n",
       " <folium.vector_layers.CircleMarker at 0x7fa728edf710>,\n",
       " <folium.vector_layers.CircleMarker at 0x7fa728ee28d0>,\n",
       " <folium.vector_layers.CircleMarker at 0x7fa728ee8128>,\n",
       " <folium.vector_layers.CircleMarker at 0x7fa728ee2320>,\n",
       " <folium.vector_layers.CircleMarker at 0x7fa728ee2780>,\n",
       " <folium.vector_layers.CircleMarker at 0x7fa728eeb208>,\n",
       " <folium.vector_layers.CircleMarker at 0x7fa728eebf28>,\n",
       " <folium.vector_layers.CircleMarker at 0x7fa728eeb898>,\n",
       " <folium.vector_layers.CircleMarker at 0x7fa728ee2cc0>,\n",
       " <folium.vector_layers.CircleMarker at 0x7fa728ee2eb8>,\n",
       " <folium.vector_layers.CircleMarker at 0x7fa728edf7b8>,\n",
       " <folium.vector_layers.CircleMarker at 0x7fa728edf7f0>,\n",
       " <folium.vector_layers.CircleMarker at 0x7fa728edfd68>,\n",
       " <folium.vector_layers.CircleMarker at 0x7fa728ec9c18>,\n",
       " <folium.vector_layers.CircleMarker at 0x7fa728ed94a8>,\n",
       " <folium.vector_layers.CircleMarker at 0x7fa728f50630>,\n",
       " <folium.vector_layers.CircleMarker at 0x7fa728f28a58>,\n",
       " <folium.vector_layers.CircleMarker at 0x7fa728eeed68>,\n",
       " <folium.vector_layers.CircleMarker at 0x7fa728edf5c0>,\n",
       " <folium.vector_layers.CircleMarker at 0x7fa728edf198>,\n",
       " <folium.vector_layers.CircleMarker at 0x7fa728ee5400>,\n",
       " <folium.vector_layers.CircleMarker at 0x7fa728ee5978>,\n",
       " <folium.vector_layers.CircleMarker at 0x7fa728edce10>,\n",
       " <folium.vector_layers.CircleMarker at 0x7fa728ef1f60>,\n",
       " <folium.vector_layers.CircleMarker at 0x7fa728ef15f8>,\n",
       " <folium.vector_layers.CircleMarker at 0x7fa728ef8390>,\n",
       " <folium.vector_layers.CircleMarker at 0x7fa728e7ed68>,\n",
       " <folium.vector_layers.CircleMarker at 0x7fa728ef4b38>,\n",
       " <folium.vector_layers.CircleMarker at 0x7fa728ef4e10>,\n",
       " <folium.vector_layers.CircleMarker at 0x7fa728ef8630>,\n",
       " <folium.vector_layers.CircleMarker at 0x7fa728ef12b0>,\n",
       " <folium.vector_layers.CircleMarker at 0x7fa728ee5128>,\n",
       " <folium.vector_layers.CircleMarker at 0x7fa728e7ee10>,\n",
       " <folium.vector_layers.CircleMarker at 0x7fa728ed3198>,\n",
       " <folium.vector_layers.CircleMarker at 0x7fa728f35358>,\n",
       " <folium.vector_layers.CircleMarker at 0x7fa728edc2e8>,\n",
       " <folium.vector_layers.CircleMarker at 0x7fa728edf470>,\n",
       " <folium.vector_layers.CircleMarker at 0x7fa728ee8438>,\n",
       " <folium.vector_layers.CircleMarker at 0x7fa728eee1d0>,\n",
       " <folium.vector_layers.CircleMarker at 0x7fa728eebdd8>,\n",
       " <folium.vector_layers.CircleMarker at 0x7fa728ee2a90>,\n",
       " <folium.vector_layers.CircleMarker at 0x7fa728ee2e80>,\n",
       " <folium.vector_layers.CircleMarker at 0x7fa728edf748>,\n",
       " <folium.vector_layers.CircleMarker at 0x7fa728e81048>,\n",
       " <folium.vector_layers.CircleMarker at 0x7fa728e81b00>,\n",
       " <folium.vector_layers.CircleMarker at 0x7fa728e7bf60>,\n",
       " <folium.vector_layers.CircleMarker at 0x7fa70fef8358>,\n",
       " <folium.vector_layers.CircleMarker at 0x7fa70fef84e0>,\n",
       " <folium.vector_layers.CircleMarker at 0x7fa70fef8128>,\n",
       " <folium.vector_layers.CircleMarker at 0x7fa70fef81d0>,\n",
       " <folium.vector_layers.CircleMarker at 0x7fa728e81d30>,\n",
       " <folium.vector_layers.CircleMarker at 0x7fa728ee2908>,\n",
       " <folium.vector_layers.CircleMarker at 0x7fa728f2be48>,\n",
       " <folium.vector_layers.CircleMarker at 0x7fa728e7e4a8>,\n",
       " <folium.vector_layers.CircleMarker at 0x7fa728e7b2e8>,\n",
       " <folium.vector_layers.CircleMarker at 0x7fa728ee5c88>,\n",
       " <folium.vector_layers.CircleMarker at 0x7fa728ec67f0>,\n",
       " <folium.vector_layers.CircleMarker at 0x7fa728ef1860>,\n",
       " <folium.vector_layers.CircleMarker at 0x7fa728ef48d0>,\n",
       " <folium.vector_layers.CircleMarker at 0x7fa728edf0f0>,\n",
       " <folium.vector_layers.CircleMarker at 0x7fa728ed6fd0>,\n",
       " <folium.vector_layers.CircleMarker at 0x7fa728f1f550>,\n",
       " <folium.vector_layers.CircleMarker at 0x7fa728f13710>,\n",
       " <folium.vector_layers.CircleMarker at 0x7fa728f6c4a8>,\n",
       " <folium.vector_layers.CircleMarker at 0x7fa728edcf98>,\n",
       " <folium.vector_layers.CircleMarker at 0x7fa728edcf28>,\n",
       " <folium.vector_layers.CircleMarker at 0x7fa728edf2b0>,\n",
       " <folium.vector_layers.CircleMarker at 0x7fa70fef87b8>,\n",
       " <folium.vector_layers.CircleMarker at 0x7fa70fef8940>,\n",
       " <folium.vector_layers.CircleMarker at 0x7fa70fef8780>,\n",
       " <folium.vector_layers.CircleMarker at 0x7fa70fef8b38>,\n",
       " <folium.vector_layers.CircleMarker at 0x7fa70fef8898>,\n",
       " <folium.vector_layers.CircleMarker at 0x7fa728f787f0>,\n",
       " <folium.vector_layers.CircleMarker at 0x7fa728f1ff98>,\n",
       " <folium.vector_layers.CircleMarker at 0x7fa728edcf60>,\n",
       " <folium.vector_layers.CircleMarker at 0x7fa728ef1400>,\n",
       " <folium.vector_layers.CircleMarker at 0x7fa728eee0b8>,\n",
       " <folium.vector_layers.CircleMarker at 0x7fa728ef8978>,\n",
       " <folium.vector_layers.CircleMarker at 0x7fa728e7b4a8>,\n",
       " <folium.vector_layers.CircleMarker at 0x7fa728f694e0>,\n",
       " <folium.vector_layers.CircleMarker at 0x7fa728edf080>,\n",
       " <folium.vector_layers.CircleMarker at 0x7fa728ef4780>,\n",
       " <folium.vector_layers.CircleMarker at 0x7fa728edf9b0>,\n",
       " <folium.vector_layers.CircleMarker at 0x7fa70fef8198>,\n",
       " <folium.vector_layers.CircleMarker at 0x7fa70fef89e8>,\n",
       " <folium.vector_layers.CircleMarker at 0x7fa70fef86d8>,\n",
       " <folium.vector_layers.CircleMarker at 0x7fa70fef8da0>,\n",
       " <folium.vector_layers.CircleMarker at 0x7fa70fef8f60>,\n",
       " <folium.vector_layers.CircleMarker at 0x7fa70fef8f98>,\n",
       " <folium.vector_layers.CircleMarker at 0x7fa70fef8e10>,\n",
       " <folium.vector_layers.CircleMarker at 0x7fa70fef8be0>,\n",
       " <folium.vector_layers.CircleMarker at 0x7fa70feb30b8>,\n",
       " <folium.vector_layers.CircleMarker at 0x7fa70feb3198>,\n",
       " <folium.vector_layers.CircleMarker at 0x7fa70feb32b0>,\n",
       " <folium.vector_layers.CircleMarker at 0x7fa70fef8cc0>,\n",
       " <folium.vector_layers.CircleMarker at 0x7fa728ef4128>,\n",
       " <folium.vector_layers.CircleMarker at 0x7fa728ee26d8>,\n",
       " <folium.vector_layers.CircleMarker at 0x7fa728ebb630>,\n",
       " <folium.vector_layers.CircleMarker at 0x7fa728eee2b0>,\n",
       " <folium.vector_layers.CircleMarker at 0x7fa70fef85c0>,\n",
       " <folium.vector_layers.CircleMarker at 0x7fa70fef8eb8>,\n",
       " <folium.vector_layers.CircleMarker at 0x7fa70fef8668>,\n",
       " <folium.vector_layers.CircleMarker at 0x7fa728edce48>,\n",
       " <folium.vector_layers.CircleMarker at 0x7fa728f6c128>,\n",
       " <folium.vector_layers.CircleMarker at 0x7fa728edf048>,\n",
       " <folium.vector_layers.CircleMarker at 0x7fa728edf400>,\n",
       " <folium.vector_layers.CircleMarker at 0x7fa70feb30f0>,\n",
       " <folium.vector_layers.CircleMarker at 0x7fa70feb3358>,\n",
       " <folium.vector_layers.CircleMarker at 0x7fa70feb31d0>,\n",
       " <folium.vector_layers.CircleMarker at 0x7fa70feb3470>,\n",
       " <folium.vector_layers.CircleMarker at 0x7fa70feb34a8>,\n",
       " <folium.vector_layers.CircleMarker at 0x7fa70feb3550>,\n",
       " <folium.vector_layers.CircleMarker at 0x7fa70feb35f8>,\n",
       " <folium.vector_layers.CircleMarker at 0x7fa70feb36a0>,\n",
       " <folium.vector_layers.CircleMarker at 0x7fa70feb3748>,\n",
       " <folium.vector_layers.CircleMarker at 0x7fa70feb37f0>,\n",
       " <folium.vector_layers.CircleMarker at 0x7fa728f04f28>,\n",
       " <folium.vector_layers.CircleMarker at 0x7fa728ef1be0>,\n",
       " <folium.vector_layers.CircleMarker at 0x7fa728e81198>,\n",
       " <folium.vector_layers.CircleMarker at 0x7fa728e7ba90>,\n",
       " <folium.vector_layers.CircleMarker at 0x7fa728edf908>,\n",
       " <folium.vector_layers.CircleMarker at 0x7fa70fef8f28>,\n",
       " <folium.vector_layers.CircleMarker at 0x7fa70fef8ef0>,\n",
       " <folium.vector_layers.CircleMarker at 0x7fa70fef8e48>,\n",
       " <folium.vector_layers.CircleMarker at 0x7fa70feb34e0>,\n",
       " <folium.vector_layers.CircleMarker at 0x7fa70feb3400>,\n",
       " <folium.vector_layers.CircleMarker at 0x7fa70feb3278>,\n",
       " <folium.vector_layers.CircleMarker at 0x7fa70feb3160>,\n",
       " <folium.vector_layers.CircleMarker at 0x7fa70feb3080>,\n",
       " <folium.vector_layers.CircleMarker at 0x7fa70feb3898>,\n",
       " <folium.vector_layers.CircleMarker at 0x7fa70feb3780>,\n",
       " <folium.vector_layers.CircleMarker at 0x7fa70feb39b0>,\n",
       " <folium.vector_layers.CircleMarker at 0x7fa70feb39e8>,\n",
       " <folium.vector_layers.CircleMarker at 0x7fa70feb3a90>,\n",
       " <folium.vector_layers.CircleMarker at 0x7fa70feb3b38>,\n",
       " <folium.vector_layers.CircleMarker at 0x7fa70feb3be0>,\n",
       " <folium.vector_layers.CircleMarker at 0x7fa70feb3c88>,\n",
       " <folium.vector_layers.CircleMarker at 0x7fa70feb3d30>,\n",
       " <folium.vector_layers.CircleMarker at 0x7fa728ee5710>,\n",
       " <folium.vector_layers.CircleMarker at 0x7fa728f0a470>,\n",
       " <folium.vector_layers.CircleMarker at 0x7fa728edf668>,\n",
       " <folium.vector_layers.CircleMarker at 0x7fa70fef8b70>,\n",
       " <folium.vector_layers.CircleMarker at 0x7fa70fef8ac8>,\n",
       " <folium.vector_layers.CircleMarker at 0x7fa70feb3a20>,\n",
       " <folium.vector_layers.CircleMarker at 0x7fa70feb3940>,\n",
       " <folium.vector_layers.CircleMarker at 0x7fa70feb3240>,\n",
       " <folium.vector_layers.CircleMarker at 0x7fa70feb3390>,\n",
       " <folium.vector_layers.CircleMarker at 0x7fa70feb36d8>,\n",
       " <folium.vector_layers.CircleMarker at 0x7fa70feb3668>,\n",
       " <folium.vector_layers.CircleMarker at 0x7fa70feb33c8>,\n",
       " <folium.vector_layers.CircleMarker at 0x7fa70feb3588>,\n",
       " <folium.vector_layers.CircleMarker at 0x7fa70feb3dd8>,\n",
       " <folium.vector_layers.CircleMarker at 0x7fa70feb3cc0>,\n",
       " <folium.vector_layers.CircleMarker at 0x7fa70feb3ef0>,\n",
       " <folium.vector_layers.CircleMarker at 0x7fa70feb3f28>,\n",
       " <folium.vector_layers.CircleMarker at 0x7fa70feb3fd0>,\n",
       " <folium.vector_layers.CircleMarker at 0x7fa70feb3d68>,\n",
       " <folium.vector_layers.CircleMarker at 0x7fa70fec5128>,\n",
       " <folium.vector_layers.CircleMarker at 0x7fa70fec5208>,\n",
       " <folium.vector_layers.CircleMarker at 0x7fa70fec52b0>,\n",
       " <folium.vector_layers.CircleMarker at 0x7fa70feb3cf8>,\n",
       " <folium.vector_layers.CircleMarker at 0x7fa70feb37b8>,\n",
       " <folium.vector_layers.CircleMarker at 0x7fa70feb3438>,\n",
       " <folium.vector_layers.CircleMarker at 0x7fa70feb32e8>,\n",
       " <folium.vector_layers.CircleMarker at 0x7fa70feb3208>,\n",
       " <folium.vector_layers.CircleMarker at 0x7fa70feb3048>,\n",
       " <folium.vector_layers.CircleMarker at 0x7fa728edf6a0>,\n",
       " <folium.vector_layers.CircleMarker at 0x7fa728edcd68>,\n",
       " <folium.vector_layers.CircleMarker at 0x7fa728f17f60>,\n",
       " <folium.vector_layers.CircleMarker at 0x7fa70fef8908>,\n",
       " <folium.vector_layers.CircleMarker at 0x7fa70feb3ac8>,\n",
       " <folium.vector_layers.CircleMarker at 0x7fa70feb3e10>,\n",
       " <folium.vector_layers.CircleMarker at 0x7fa70fec5198>,\n",
       " <folium.vector_layers.CircleMarker at 0x7fa70fec5358>,\n",
       " <folium.vector_layers.CircleMarker at 0x7fa70fec5240>,\n",
       " <folium.vector_layers.CircleMarker at 0x7fa70fec5470>,\n",
       " <folium.vector_layers.CircleMarker at 0x7fa70fec54a8>,\n",
       " <folium.vector_layers.CircleMarker at 0x7fa70fec5550>,\n",
       " <folium.vector_layers.CircleMarker at 0x7fa70fec55f8>,\n",
       " <folium.vector_layers.CircleMarker at 0x7fa70fec56a0>,\n",
       " <folium.vector_layers.CircleMarker at 0x7fa70fec5748>,\n",
       " <folium.vector_layers.CircleMarker at 0x7fa70fec57f0>,\n",
       " <folium.vector_layers.CircleMarker at 0x7fa70fef8c18>,\n",
       " <folium.vector_layers.CircleMarker at 0x7fa70feb3828>,\n",
       " <folium.vector_layers.CircleMarker at 0x7fa70feb3128>,\n",
       " <folium.vector_layers.CircleMarker at 0x7fa70feb3c18>,\n",
       " <folium.vector_layers.CircleMarker at 0x7fa70feb3710>,\n",
       " <folium.vector_layers.CircleMarker at 0x7fa70feb35c0>,\n",
       " <folium.vector_layers.CircleMarker at 0x7fa70feb3e80>,\n",
       " <folium.vector_layers.CircleMarker at 0x7fa70feb3eb8>,\n",
       " <folium.vector_layers.CircleMarker at 0x7fa70fec5710>,\n",
       " <folium.vector_layers.CircleMarker at 0x7fa70fec55c0>,\n",
       " <folium.vector_layers.CircleMarker at 0x7fa70fec53c8>,\n",
       " <folium.vector_layers.CircleMarker at 0x7fa70fec5438>,\n",
       " <folium.vector_layers.CircleMarker at 0x7fa70fec5160>,\n",
       " <folium.vector_layers.CircleMarker at 0x7fa70fec5320>,\n",
       " <folium.vector_layers.CircleMarker at 0x7fa70fec5908>,\n",
       " <folium.vector_layers.CircleMarker at 0x7fa70fec5940>,\n",
       " <folium.vector_layers.CircleMarker at 0x7fa70fec5828>,\n",
       " <folium.vector_layers.CircleMarker at 0x7fa70fec5a20>,\n",
       " <folium.vector_layers.CircleMarker at 0x7fa70fec5ac8>,\n",
       " <folium.vector_layers.CircleMarker at 0x7fa70fec5b70>,\n",
       " <folium.vector_layers.CircleMarker at 0x7fa70fec5c18>,\n",
       " <folium.vector_layers.CircleMarker at 0x7fa70feb3b00>,\n",
       " <folium.vector_layers.CircleMarker at 0x7fa728edf160>,\n",
       " <folium.vector_layers.CircleMarker at 0x7fa70fef8320>,\n",
       " <folium.vector_layers.CircleMarker at 0x7fa70feb3518>,\n",
       " <folium.vector_layers.CircleMarker at 0x7fa70feb3b70>,\n",
       " <folium.vector_layers.CircleMarker at 0x7fa70feb3978>,\n",
       " <folium.vector_layers.CircleMarker at 0x7fa70fec50f0>,\n",
       " <folium.vector_layers.CircleMarker at 0x7fa70fec58d0>,\n",
       " <folium.vector_layers.CircleMarker at 0x7fa70fec59b0>,\n",
       " <folium.vector_layers.CircleMarker at 0x7fa70fec51d0>,\n",
       " <folium.vector_layers.CircleMarker at 0x7fa70fec5278>,\n",
       " <folium.vector_layers.CircleMarker at 0x7fa70fec54e0>,\n",
       " <folium.vector_layers.CircleMarker at 0x7fa70fec5518>,\n",
       " <folium.vector_layers.CircleMarker at 0x7fa70fec57b8>,\n",
       " <folium.vector_layers.CircleMarker at 0x7fa70fec5ba8>,\n",
       " <folium.vector_layers.CircleMarker at 0x7fa70fec5dd8>,\n",
       " <folium.vector_layers.CircleMarker at 0x7fa70fec5e10>,\n",
       " <folium.vector_layers.CircleMarker at 0x7fa70fec5eb8>,\n",
       " <folium.vector_layers.CircleMarker at 0x7fa70fec5f60>,\n",
       " <folium.vector_layers.CircleMarker at 0x7fa70fec5ef0>,\n",
       " <folium.vector_layers.CircleMarker at 0x7fa70fed9048>,\n",
       " <folium.vector_layers.CircleMarker at 0x7fa70fed9160>,\n",
       " <folium.vector_layers.CircleMarker at 0x7fa70fec5d30>,\n",
       " <folium.vector_layers.CircleMarker at 0x7fa70fec5f28>,\n",
       " <folium.vector_layers.CircleMarker at 0x7fa70fec52e8>,\n",
       " <folium.vector_layers.CircleMarker at 0x7fa70fec5cf8>,\n",
       " <folium.vector_layers.CircleMarker at 0x7fa70fec5898>,\n",
       " <folium.vector_layers.CircleMarker at 0x7fa70fec5390>,\n",
       " <folium.vector_layers.CircleMarker at 0x7fa728e7b710>,\n",
       " <folium.vector_layers.CircleMarker at 0x7fa70fec5588>,\n",
       " <folium.vector_layers.CircleMarker at 0x7fa70fec59e8>,\n",
       " <folium.vector_layers.CircleMarker at 0x7fa70fec5978>,\n",
       " <folium.vector_layers.CircleMarker at 0x7fa70feb3908>,\n",
       " <folium.vector_layers.CircleMarker at 0x7fa70feb3c50>,\n",
       " <folium.vector_layers.CircleMarker at 0x7fa70feb3630>,\n",
       " <folium.vector_layers.CircleMarker at 0x7fa70fed90f0>,\n",
       " <folium.vector_layers.CircleMarker at 0x7fa70fed9278>,\n",
       " <folium.vector_layers.CircleMarker at 0x7fa70fed9358>,\n",
       " <folium.vector_layers.CircleMarker at 0x7fa70fed9390>,\n",
       " <folium.vector_layers.CircleMarker at 0x7fa70fed9438>,\n",
       " <folium.vector_layers.CircleMarker at 0x7fa70fed94e0>,\n",
       " <folium.vector_layers.CircleMarker at 0x7fa70fed9588>,\n",
       " <folium.vector_layers.CircleMarker at 0x7fa70fed9630>,\n",
       " <folium.vector_layers.CircleMarker at 0x7fa70fed96d8>,\n",
       " <folium.vector_layers.CircleMarker at 0x7fa70feb38d0>,\n",
       " <folium.vector_layers.CircleMarker at 0x7fa70feb3ba8>,\n",
       " <folium.vector_layers.CircleMarker at 0x7fa70fec5780>,\n",
       " <folium.vector_layers.CircleMarker at 0x7fa70fec5b38>,\n",
       " <folium.vector_layers.CircleMarker at 0x7fa70fec5da0>,\n",
       " <folium.vector_layers.CircleMarker at 0x7fa70fec5668>,\n",
       " <folium.vector_layers.CircleMarker at 0x7fa70fec5860>,\n",
       " <folium.vector_layers.CircleMarker at 0x7fa70fec5e48>,\n",
       " <folium.vector_layers.CircleMarker at 0x7fa70fec5fd0>,\n",
       " <folium.vector_layers.CircleMarker at 0x7fa70fed93c8>,\n",
       " <folium.vector_layers.CircleMarker at 0x7fa70fed9128>,\n",
       " <folium.vector_layers.CircleMarker at 0x7fa70fed90b8>,\n",
       " <folium.vector_layers.CircleMarker at 0x7fa70fed9240>,\n",
       " <folium.vector_layers.CircleMarker at 0x7fa70fed9780>,\n",
       " <folium.vector_layers.CircleMarker at 0x7fa70fed9668>,\n",
       " <folium.vector_layers.CircleMarker at 0x7fa70fed9898>,\n",
       " <folium.vector_layers.CircleMarker at 0x7fa70fed98d0>,\n",
       " <folium.vector_layers.CircleMarker at 0x7fa70fed9978>,\n",
       " <folium.vector_layers.CircleMarker at 0x7fa70fed9a20>,\n",
       " <folium.vector_layers.CircleMarker at 0x7fa70fed9ac8>,\n",
       " <folium.vector_layers.CircleMarker at 0x7fa70fed9b70>,\n",
       " <folium.vector_layers.CircleMarker at 0x7fa70fed9c18>,\n",
       " <folium.vector_layers.CircleMarker at 0x7fa70fec5cc0>,\n",
       " <folium.vector_layers.CircleMarker at 0x7fa70feb3e48>,\n",
       " <folium.vector_layers.CircleMarker at 0x7fa70fec50b8>,\n",
       " <folium.vector_layers.CircleMarker at 0x7fa70fec5a58>,\n",
       " <folium.vector_layers.CircleMarker at 0x7fa70fec5630>,\n",
       " <folium.vector_layers.CircleMarker at 0x7fa70fed9a58>,\n",
       " <folium.vector_layers.CircleMarker at 0x7fa70fed9a90>,\n",
       " <folium.vector_layers.CircleMarker at 0x7fa70fed9940>,\n",
       " <folium.vector_layers.CircleMarker at 0x7fa70fed9080>,\n",
       " <folium.vector_layers.CircleMarker at 0x7fa70fed97b8>,\n",
       " <folium.vector_layers.CircleMarker at 0x7fa70fed9550>,\n",
       " <folium.vector_layers.CircleMarker at 0x7fa70fed92b0>,\n",
       " <folium.vector_layers.CircleMarker at 0x7fa70fed9470>,\n",
       " <folium.vector_layers.CircleMarker at 0x7fa70fed9cc0>,\n",
       " <folium.vector_layers.CircleMarker at 0x7fa70fed9ba8>,\n",
       " <folium.vector_layers.CircleMarker at 0x7fa70fed9dd8>,\n",
       " <folium.vector_layers.CircleMarker at 0x7fa70fed9e10>,\n",
       " <folium.vector_layers.CircleMarker at 0x7fa70fed9eb8>,\n",
       " <folium.vector_layers.CircleMarker at 0x7fa70fed9f60>,\n",
       " <folium.vector_layers.CircleMarker at 0x7fa70fed9ef0>,\n",
       " <folium.vector_layers.CircleMarker at 0x7fa70fe6d048>,\n",
       " <folium.vector_layers.CircleMarker at 0x7fa70fe6d128>,\n",
       " <folium.vector_layers.CircleMarker at 0x7fa70fed99b0>,\n",
       " <folium.vector_layers.CircleMarker at 0x7fa70fed9f28>,\n",
       " <folium.vector_layers.CircleMarker at 0x7fa70fed9518>,\n",
       " <folium.vector_layers.CircleMarker at 0x7fa70fed9cf8>,\n",
       " <folium.vector_layers.CircleMarker at 0x7fa70fed9400>,\n",
       " <folium.vector_layers.CircleMarker at 0x7fa70fed95f8>,\n",
       " <folium.vector_layers.CircleMarker at 0x7fa70fed9710>,\n",
       " <folium.vector_layers.CircleMarker at 0x7fa70fed9208>,\n",
       " <folium.vector_layers.CircleMarker at 0x7fa70feb3f98>,\n",
       " <folium.vector_layers.CircleMarker at 0x7fa70fed9320>,\n",
       " <folium.vector_layers.CircleMarker at 0x7fa70fed9828>,\n",
       " <folium.vector_layers.CircleMarker at 0x7fa70fec5be0>,\n",
       " <folium.vector_layers.CircleMarker at 0x7fa70fec5c50>,\n",
       " <folium.vector_layers.CircleMarker at 0x7fa70fe6d0b8>,\n",
       " <folium.vector_layers.CircleMarker at 0x7fa70fe6d278>,\n",
       " <folium.vector_layers.CircleMarker at 0x7fa70fe6d358>,\n",
       " <folium.vector_layers.CircleMarker at 0x7fa70fe6d390>,\n",
       " <folium.vector_layers.CircleMarker at 0x7fa70fe6d438>,\n",
       " <folium.vector_layers.CircleMarker at 0x7fa70fe6d4e0>,\n",
       " <folium.vector_layers.CircleMarker at 0x7fa70fe6d588>,\n",
       " <folium.vector_layers.CircleMarker at 0x7fa70fe6d630>,\n",
       " <folium.vector_layers.CircleMarker at 0x7fa70fed96a0>,\n",
       " <folium.vector_layers.CircleMarker at 0x7fa70fed97f0>,\n",
       " <folium.vector_layers.CircleMarker at 0x7fa70fed9da0>,\n",
       " <folium.vector_layers.CircleMarker at 0x7fa70fed9b00>,\n",
       " <folium.vector_layers.CircleMarker at 0x7fa70fed9d30>,\n",
       " <folium.vector_layers.CircleMarker at 0x7fa70fed9e48>,\n",
       " <folium.vector_layers.CircleMarker at 0x7fa70fed9748>,\n",
       " <folium.vector_layers.CircleMarker at 0x7fa70fed9f98>,\n",
       " <folium.vector_layers.CircleMarker at 0x7fa728edf390>,\n",
       " <folium.vector_layers.CircleMarker at 0x7fa70fec5e80>,\n",
       " <folium.vector_layers.CircleMarker at 0x7fa70fec5048>,\n",
       " <folium.vector_layers.CircleMarker at 0x7fa70fec5a90>,\n",
       " <folium.vector_layers.CircleMarker at 0x7fa70fef8c88>,\n",
       " <folium.vector_layers.CircleMarker at 0x7fa70fef8d68>,\n",
       " <folium.vector_layers.CircleMarker at 0x7fa70feb3a58>,\n",
       " <folium.vector_layers.CircleMarker at 0x7fa70fe6d3c8>,\n",
       " <folium.vector_layers.CircleMarker at 0x7fa70fe6d0f0>,\n",
       " <folium.vector_layers.CircleMarker at 0x7fa70fe6d160>,\n",
       " <folium.vector_layers.CircleMarker at 0x7fa70fe6d240>,\n",
       " <folium.vector_layers.CircleMarker at 0x7fa70fe6d710>,\n",
       " <folium.vector_layers.CircleMarker at 0x7fa70fe6d7b8>,\n",
       " <folium.vector_layers.CircleMarker at 0x7fa70fe6d208>,\n",
       " <folium.vector_layers.CircleMarker at 0x7fa70fe6d898>,\n",
       " <folium.vector_layers.CircleMarker at 0x7fa70fef8fd0>,\n",
       " <folium.vector_layers.CircleMarker at 0x7fa70feb3f60>,\n",
       " <folium.vector_layers.CircleMarker at 0x7fa70fec5b00>,\n",
       " <folium.vector_layers.CircleMarker at 0x7fa70fec5d68>,\n",
       " <folium.vector_layers.CircleMarker at 0x7fa70fed91d0>,\n",
       " <folium.vector_layers.CircleMarker at 0x7fa70fed9be0>,\n",
       " <folium.vector_layers.CircleMarker at 0x7fa70fed9860>,\n",
       " <folium.vector_layers.CircleMarker at 0x7fa70fed9198>,\n",
       " <folium.vector_layers.CircleMarker at 0x7fa70fed9908>,\n",
       " <folium.vector_layers.CircleMarker at 0x7fa70fe6d5c0>,\n",
       " <folium.vector_layers.CircleMarker at 0x7fa70fe6d780>,\n",
       " <folium.vector_layers.CircleMarker at 0x7fa70fe6d2e8>,\n",
       " <folium.vector_layers.CircleMarker at 0x7fa70fe6d4a8>,\n",
       " <folium.vector_layers.CircleMarker at 0x7fa70fe6d6d8>,\n",
       " <folium.vector_layers.CircleMarker at 0x7fa70fe6d9b0>,\n",
       " <folium.vector_layers.CircleMarker at 0x7fa70fe6d9e8>,\n",
       " <folium.vector_layers.CircleMarker at 0x7fa70fe6d8d0>,\n",
       " <folium.vector_layers.CircleMarker at 0x7fa70fe6dac8>,\n",
       " <folium.vector_layers.CircleMarker at 0x7fa70fe6db70>,\n",
       " <folium.vector_layers.CircleMarker at 0x7fa70fe6dc18>,\n",
       " <folium.vector_layers.CircleMarker at 0x7fa70fe6dcc0>,\n",
       " <folium.vector_layers.CircleMarker at 0x7fa70fe6dd68>,\n",
       " <folium.vector_layers.CircleMarker at 0x7fa70fed9c50>,\n",
       " <folium.vector_layers.CircleMarker at 0x7fa70fed94a8>,\n",
       " <folium.vector_layers.CircleMarker at 0x7fa70fed9c88>,\n",
       " <folium.vector_layers.CircleMarker at 0x7fa70feb3860>,\n",
       " <folium.vector_layers.CircleMarker at 0x7fa70fec5f98>,\n",
       " <folium.vector_layers.CircleMarker at 0x7fa70fec56d8>,\n",
       " <folium.vector_layers.CircleMarker at 0x7fa70fe6dc88>,\n",
       " <folium.vector_layers.CircleMarker at 0x7fa70fe6db38>,\n",
       " <folium.vector_layers.CircleMarker at 0x7fa70fe6d7f0>,\n",
       " <folium.vector_layers.CircleMarker at 0x7fa70fe6d828>,\n",
       " <folium.vector_layers.CircleMarker at 0x7fa70fe6d400>,\n",
       " <folium.vector_layers.CircleMarker at 0x7fa70fe6d2b0>,\n",
       " <folium.vector_layers.CircleMarker at 0x7fa70fe6d668>,\n",
       " <folium.vector_layers.CircleMarker at 0x7fa70fe6ddd8>,\n",
       " <folium.vector_layers.CircleMarker at 0x7fa70fe6de80>,\n",
       " <folium.vector_layers.CircleMarker at 0x7fa70fe6deb8>,\n",
       " <folium.vector_layers.CircleMarker at 0x7fa70fe6dda0>,\n",
       " <folium.vector_layers.CircleMarker at 0x7fa70fe6df98>,\n",
       " <folium.vector_layers.CircleMarker at 0x7fa70fe6d080>,\n",
       " <folium.vector_layers.CircleMarker at 0x7fa70fe810b8>,\n",
       " <folium.vector_layers.CircleMarker at 0x7fa70fe811d0>,\n",
       " <folium.vector_layers.CircleMarker at 0x7fa70fe6dfd0>,\n",
       " <folium.vector_layers.CircleMarker at 0x7fa70fe6df60>,\n",
       " <folium.vector_layers.CircleMarker at 0x7fa70fe6d550>,\n",
       " <folium.vector_layers.CircleMarker at 0x7fa70fe6d908>,\n",
       " <folium.vector_layers.CircleMarker at 0x7fa70fe6da58>,\n",
       " <folium.vector_layers.CircleMarker at 0x7fa70fe6d940>,\n",
       " <folium.vector_layers.CircleMarker at 0x7fa70fe6db00>,\n",
       " <folium.vector_layers.CircleMarker at 0x7fa70fec5400>,\n",
       " <folium.vector_layers.CircleMarker at 0x7fa70fef8080>,\n",
       " <folium.vector_layers.CircleMarker at 0x7fa70fe6dbe0>,\n",
       " <folium.vector_layers.CircleMarker at 0x7fa70fe6d748>,\n",
       " <folium.vector_layers.CircleMarker at 0x7fa70fed95c0>,\n",
       " <folium.vector_layers.CircleMarker at 0x7fa70fed9fd0>,\n",
       " <folium.vector_layers.CircleMarker at 0x7fa70fe81160>,\n",
       " <folium.vector_layers.CircleMarker at 0x7fa70fe812b0>,\n",
       " <folium.vector_layers.CircleMarker at 0x7fa70fe81390>,\n",
       " <folium.vector_layers.CircleMarker at 0x7fa70fe813c8>,\n",
       " <folium.vector_layers.CircleMarker at 0x7fa70fe81470>,\n",
       " <folium.vector_layers.CircleMarker at 0x7fa70fe81518>,\n",
       " <folium.vector_layers.CircleMarker at 0x7fa70fe815c0>,\n",
       " <folium.vector_layers.CircleMarker at 0x7fa70fe81668>,\n",
       " <folium.vector_layers.CircleMarker at 0x7fa70fe81710>,\n",
       " <folium.vector_layers.CircleMarker at 0x7fa70feb3da0>,\n",
       " <folium.vector_layers.CircleMarker at 0x7fa70fec5080>,\n",
       " <folium.vector_layers.CircleMarker at 0x7fa70fed9e80>,\n",
       " <folium.vector_layers.CircleMarker at 0x7fa70fe6d320>,\n",
       " <folium.vector_layers.CircleMarker at 0x7fa70fe6de10>,\n",
       " <folium.vector_layers.CircleMarker at 0x7fa70fe6d1d0>,\n",
       " <folium.vector_layers.CircleMarker at 0x7fa70fe6d860>,\n",
       " <folium.vector_layers.CircleMarker at 0x7fa70fe6dba8>,\n",
       " <folium.vector_layers.CircleMarker at 0x7fa70fe6def0>,\n",
       " <folium.vector_layers.CircleMarker at 0x7fa70fe81400>,\n",
       " <folium.vector_layers.CircleMarker at 0x7fa70fe810f0>,\n",
       " <folium.vector_layers.CircleMarker at 0x7fa70fe81198>,\n",
       " <folium.vector_layers.CircleMarker at 0x7fa70fe81278>,\n",
       " <folium.vector_layers.CircleMarker at 0x7fa70fe817b8>,\n",
       " <folium.vector_layers.CircleMarker at 0x7fa70fe816a0>,\n",
       " <folium.vector_layers.CircleMarker at 0x7fa70fe818d0>,\n",
       " <folium.vector_layers.CircleMarker at 0x7fa70fe81908>,\n",
       " <folium.vector_layers.CircleMarker at 0x7fa70fe819b0>,\n",
       " <folium.vector_layers.CircleMarker at 0x7fa70fe81a58>,\n",
       " <folium.vector_layers.CircleMarker at 0x7fa70fe81b00>,\n",
       " <folium.vector_layers.CircleMarker at 0x7fa70fe81ba8>,\n",
       " <folium.vector_layers.CircleMarker at 0x7fa70fe81c50>,\n",
       " <folium.vector_layers.CircleMarker at 0x7fa70fe6da90>,\n",
       " <folium.vector_layers.CircleMarker at 0x7fa70fec5c88>,\n",
       " <folium.vector_layers.CircleMarker at 0x7fa70fe6dc50>,\n",
       " <folium.vector_layers.CircleMarker at 0x7fa70fed99e8>,\n",
       " <folium.vector_layers.CircleMarker at 0x7fa70fe6de48>,\n",
       " <folium.vector_layers.CircleMarker at 0x7fa70fe81a90>,\n",
       " <folium.vector_layers.CircleMarker at 0x7fa70fe81ac8>,\n",
       " <folium.vector_layers.CircleMarker at 0x7fa70fe81978>,\n",
       " <folium.vector_layers.CircleMarker at 0x7fa70fe81128>,\n",
       " <folium.vector_layers.CircleMarker at 0x7fa70fe817f0>,\n",
       " <folium.vector_layers.CircleMarker at 0x7fa70fe81588>,\n",
       " <folium.vector_layers.CircleMarker at 0x7fa70fe812e8>,\n",
       " <folium.vector_layers.CircleMarker at 0x7fa70fe814a8>,\n",
       " <folium.vector_layers.CircleMarker at 0x7fa70fe81cf8>,\n",
       " <folium.vector_layers.CircleMarker at 0x7fa70fe81be0>,\n",
       " <folium.vector_layers.CircleMarker at 0x7fa70fe81e10>,\n",
       " <folium.vector_layers.CircleMarker at 0x7fa70fe81e48>]"
      ]
     },
     "execution_count": 181,
     "metadata": {},
     "output_type": "execute_result"
    }
   ],
   "source": [
    "map_with_markers"
   ]
  },
  {
   "cell_type": "markdown",
   "metadata": {},
   "source": [
    "### Using Nearest Neighbors"
   ]
  },
  {
   "cell_type": "markdown",
   "metadata": {},
   "source": [
    "Ok, let's write a function that given a latitude and longitude will predict the distance for us.  We'll do this by first finding the nearest trips given a latitude and longitude. "
   ]
  },
  {
   "cell_type": "markdown",
   "metadata": {},
   "source": [
    "Here we once again apply the nearest neighbors formula. As a first step, write a function named `distance_location` that calculates the distance in pickup location between two trips."
   ]
  },
  {
   "cell_type": "code",
   "execution_count": 128,
   "metadata": {},
   "outputs": [],
   "source": [
    "import math\n",
    "\n",
    "def distance_location(selected_trip, neighbor_trip):\n",
    "    distance_squared = (neighbor_trip['pickup_latitude'] - selected_trip['pickup_latitude'])**2 + (neighbor_trip['pickup_longitude'] - selected_trip['pickup_longitude'])**2\n",
    "    return math.sqrt(distance_squared)"
   ]
  },
  {
   "cell_type": "code",
   "execution_count": 129,
   "metadata": {},
   "outputs": [
    {
     "data": {
      "text/plain": [
       "0.235"
      ]
     },
     "execution_count": 129,
     "metadata": {},
     "output_type": "execute_result"
    }
   ],
   "source": [
    "first_trip = {'pickup_latitude': 40.64499, 'pickup_longitude': -73.78115, 'trip_distance': 18.38}\n",
    "second_trip = {'pickup_latitude': 40.766931, 'pickup_longitude': -73.982098, 'trip_distance': 1.3}\n",
    "distance_first_and_second = distance_location(first_trip, second_trip)\n",
    "\n",
    "distance_first_and_second and round(distance_first_and_second, 3) # 0.235"
   ]
  },
  {
   "cell_type": "markdown",
   "metadata": {},
   "source": [
    "Ok, next write a function called `distance_between_neighbors` that adds a new key-value pair, called `distance_from_selected`, that calculates the distance of the `neighbor_trip` from the `selected_trip`."
   ]
  },
  {
   "cell_type": "code",
   "execution_count": 130,
   "metadata": {},
   "outputs": [],
   "source": [
    "def distance_between_neighbors(selected_trip, neighbor_trip):\n",
    "    neighbor_trip_with_distance = neighbor_trip.copy()\n",
    "    neighbor_trip_with_distance['distance_from_selected'] = distance_location(selected_trip, neighbor_trip)\n",
    "    return neighbor_trip_with_distance"
   ]
  },
  {
   "cell_type": "code",
   "execution_count": 131,
   "metadata": {},
   "outputs": [
    {
     "data": {
      "text/plain": [
       "{'pickup_latitude': 40.766931,\n",
       " 'pickup_longitude': -73.982098,\n",
       " 'trip_distance': 1.3,\n",
       " 'distance_from_selected': 0.23505256047318146}"
      ]
     },
     "execution_count": 131,
     "metadata": {},
     "output_type": "execute_result"
    }
   ],
   "source": [
    "distance_between_neighbors(first_trip, second_trip)\n",
    "\n",
    "# {'distance_from_selected': 0.23505256047318146,\n",
    "#  'pickup_latitude': 40.766931,\n",
    "#  'pickup_longitude': -73.982098,\n",
    "#  'trip_distance': 1.3}"
   ]
  },
  {
   "cell_type": "markdown",
   "metadata": {},
   "source": [
    "Ok, now our `neighbor_trip` has another attribute called `distance_from_selected`, that indicates the distance from the `neighbor_trip`'s pickup location from the `selected_trip`."
   ]
  },
  {
   "cell_type": "markdown",
   "metadata": {},
   "source": [
    "> ** Understand the data:** Our dictionary now has a few attributes, two of which say distance.  Let's make sure we understand the difference. \n",
    "> * **`distance_from_selected`:** This is our calculation of the distance of the neighbor's pickup location from the selected trip.\n",
    "> * **`trip_distance`:** This is the attribute we were provided initially.  It tells us the length of the neighbor's taxi trip from pickup to drop-off.  "
   ]
  },
  {
   "cell_type": "markdown",
   "metadata": {},
   "source": [
    "Next, write a function called `distance_all` that provided a list of neighbors, returns each of those neighbors with their respective `distance_from_selected` numbers."
   ]
  },
  {
   "cell_type": "code",
   "execution_count": 132,
   "metadata": {},
   "outputs": [],
   "source": [
    "def distance_all(selected_trip, neighbors):\n",
    "    remaining_neighbors = filter(lambda neighbor: neighbor != selected_trip, neighbors)\n",
    "    return list(map(lambda neighbor: distance_between_neighbors(selected_trip, neighbor), remaining_neighbors))"
   ]
  },
  {
   "cell_type": "code",
   "execution_count": 133,
   "metadata": {},
   "outputs": [
    {
     "data": {
      "text/plain": [
       "[{'trip_distance': 1.3,\n",
       "  'pickup_latitude': 40.766931,\n",
       "  'pickup_longitude': -73.982098,\n",
       "  'distance_from_selected': 0.23505256047318146},\n",
       " {'trip_distance': 4.5,\n",
       "  'pickup_latitude': 40.77773,\n",
       "  'pickup_longitude': -73.951902,\n",
       "  'distance_from_selected': 0.2162779533470808},\n",
       " {'trip_distance': 2.4,\n",
       "  'pickup_latitude': 40.795678,\n",
       "  'pickup_longitude': -73.971049,\n",
       "  'distance_from_selected': 0.24242215976473674}]"
      ]
     },
     "execution_count": 133,
     "metadata": {},
     "output_type": "execute_result"
    }
   ],
   "source": [
    "cleaned_trips and distance_all(first_trip, cleaned_trips[0:4])"
   ]
  },
  {
   "cell_type": "markdown",
   "metadata": {},
   "source": [
    "Now write the nearest neighbors formula to calculate the distance of the `selected_trip` from all of the `cleaned_trips` in our dataset.  If no number is provided, it should return the top 3 neighbors."
   ]
  },
  {
   "cell_type": "code",
   "execution_count": 134,
   "metadata": {},
   "outputs": [],
   "source": [
    "def nearest_neighbors(selected_trip, neighbors, number = 3):\n",
    "    number = number or len(neighbors)\n",
    "    neighbor_distances = distance_all(selected_trip, neighbors)\n",
    "    sorted_neighbors = sorted(neighbor_distances, key=lambda neighbor: neighbor['distance_from_selected'])\n",
    "    return sorted_neighbors[:number]"
   ]
  },
  {
   "cell_type": "code",
   "execution_count": 135,
   "metadata": {},
   "outputs": [
    {
     "data": {
      "text/plain": [
       "[{'trip_distance': 7.78,\n",
       "  'pickup_latitude': 40.64483,\n",
       "  'pickup_longitude': -73.781578,\n",
       "  'distance_from_selected': 0.0004569288784918792},\n",
       " {'trip_distance': 12.7,\n",
       "  'pickup_latitude': 40.644657,\n",
       "  'pickup_longitude': -73.782229,\n",
       "  'distance_from_selected': 0.0011292165425673159},\n",
       " {'trip_distance': 17.3,\n",
       "  'pickup_latitude': 40.648509,\n",
       "  'pickup_longitude': -73.783508,\n",
       "  'distance_from_selected': 0.0042359798158141185}]"
      ]
     },
     "execution_count": 135,
     "metadata": {},
     "output_type": "execute_result"
    }
   ],
   "source": [
    "new_trip = {'pickup_latitude': 40.64499,\n",
    "'pickup_longitude': -73.78115,\n",
    "'trip_distance': 18.38}\n",
    "\n",
    "nearest_three_neighbors = nearest_neighbors(new_trip, cleaned_trips or [], number = 3)\n",
    "nearest_three_neighbors\n",
    "# [{'distance_from_selected': 0.0004569288784918792,\n",
    "#   'pickup_latitude': 40.64483,\n",
    "#   'pickup_longitude': -73.781578,\n",
    "#   'trip_distance': 7.78},\n",
    "#  {'distance_from_selected': 0.0011292165425673159,\n",
    "#   'pickup_latitude': 40.644657,\n",
    "#   'pickup_longitude': -73.782229,\n",
    "#   'trip_distance': 12.7},\n",
    "#  {'distance_from_selected': 0.0042359798158141185,\n",
    "#   'pickup_latitude': 40.648509,\n",
    "#   'pickup_longitude': -73.783508,\n",
    "#   'trip_distance': 17.3}]"
   ]
  },
  {
   "cell_type": "markdown",
   "metadata": {},
   "source": [
    "Ok great! Now that we can provide a new trip location, and find the distances of the three nearest trips, we can take  calculate an estimate of the trip distance for that new trip location.  \n",
    "\n",
    "We do so simply by calculating the average of it's nearest neighbors."
   ]
  },
  {
   "cell_type": "code",
   "execution_count": 140,
   "metadata": {},
   "outputs": [
    {
     "data": {
      "text/plain": [
       "12.593"
      ]
     },
     "execution_count": 140,
     "metadata": {},
     "output_type": "execute_result"
    }
   ],
   "source": [
    "import statistics\n",
    "def mean_distance(neighbors):\n",
    "    nearest_distances = list(map(lambda neighbor: neighbor['trip_distance'], neighbors))\n",
    "    return round(statistics.mean(nearest_distances), 3)\n",
    "\n",
    "nearest_three_neighbors = nearest_neighbors(new_trip, cleaned_trips or [], number = 3)\n",
    "distance_estimate_of_selected_trip = mean_distance(nearest_three_neighbors) # 12.593\n",
    "distance_estimate_of_selected_trip"
   ]
  },
  {
   "cell_type": "markdown",
   "metadata": {},
   "source": [
    "### Choosing the correct number of neighbors"
   ]
  },
  {
   "cell_type": "markdown",
   "metadata": {},
   "source": [
    "Now, as we know from the last lesson, one tricky element is to determine how many neighbors to choose, our $k$ value,  before calculating the average.  We want to choose our value of $k$ such that it properly matches actual data, and so that it applies to new data.  There are fancy formulas to ensure that we **train** our algorithm so that our formula is optimized for all data, but here let's see different $k$ values manually.  This is the gist of choosing our $k$ value:\n",
    "\n",
    "* If we choose a $k$ value too low, our formula will be too heavily influenced by a single neighbor, whereas if our $k$ value is too high, we will be choosing so many neighbors that our nearest neighbors formula will not be adjust enough according to locations.\n",
    "\n",
    "Ok, let's experiment with this."
   ]
  },
  {
   "cell_type": "markdown",
   "metadata": {},
   "source": [
    "First, let's choose a midtown location, to see what the trip distance would be.  A Google search reveals the coordinates of 51st and 7th avenue to be the following."
   ]
  },
  {
   "cell_type": "code",
   "execution_count": 141,
   "metadata": {},
   "outputs": [],
   "source": [
    "midtown_trip = dict(pickup_latitude=40.761710, pickup_longitude=-73.982760)"
   ]
  },
  {
   "cell_type": "code",
   "execution_count": 143,
   "metadata": {},
   "outputs": [
    {
     "data": {
      "text/plain": [
       "[{'trip_distance': 0.58,\n",
       "  'pickup_latitude': 40.761372,\n",
       "  'pickup_longitude': -73.982602,\n",
       "  'distance_from_selected': 0.00037310588309379025},\n",
       " {'trip_distance': 0.8,\n",
       "  'pickup_latitude': 40.762444,\n",
       "  'pickup_longitude': -73.98244,\n",
       "  'distance_from_selected': 0.00080072217404248},\n",
       " {'trip_distance': 1.4,\n",
       "  'pickup_latitude': 40.762767,\n",
       "  'pickup_longitude': -73.982293,\n",
       "  'distance_from_selected': 0.0011555682584735844},\n",
       " {'trip_distance': 8.3,\n",
       "  'pickup_latitude': 40.762868,\n",
       "  'pickup_longitude': -73.983233,\n",
       "  'distance_from_selected': 0.0012508768924205918},\n",
       " {'trip_distance': 1.26,\n",
       "  'pickup_latitude': 40.760057,\n",
       "  'pickup_longitude': -73.983502,\n",
       "  'distance_from_selected': 0.0018118976240381972},\n",
       " {'trip_distance': 0.0,\n",
       "  'pickup_latitude': 40.760644,\n",
       "  'pickup_longitude': -73.984531,\n",
       "  'distance_from_selected': 0.002067074502774709},\n",
       " {'trip_distance': 1.72,\n",
       "  'pickup_latitude': 40.762107,\n",
       "  'pickup_longitude': -73.98479,\n",
       "  'distance_from_selected': 0.0020684557041472677}]"
      ]
     },
     "execution_count": 143,
     "metadata": {},
     "output_type": "execute_result"
    }
   ],
   "source": [
    "seven_closest = nearest_neighbors(midtown_trip, cleaned_trips, number = 7)\n",
    "seven_closest\n",
    "# [{'trip_distance': 0.58,\n",
    "#   'pickup_latitude': 40.761372,\n",
    "#   'pickup_longitude': -73.982602,\n",
    "#   'distance_from_selected': 0.00037310588309379025},\n",
    "#  {'trip_distance': 0.8,\n",
    "#   'pickup_latitude': 40.762444,\n",
    "#   'pickup_longitude': -73.98244,\n",
    "#   'distance_from_selected': 0.00080072217404248},\n",
    "#  {'trip_distance': 1.4,\n",
    "#   'pickup_latitude': 40.762767,\n",
    "#   'pickup_longitude': -73.982293,\n",
    "#   'distance_from_selected': 0.0011555682584735844},\n",
    "#  {'trip_distance': 8.3,\n",
    "#   'pickup_latitude': 40.762868,\n",
    "#   'pickup_longitude': -73.983233,\n",
    "#   'distance_from_selected': 0.0012508768924205918},\n",
    "#  {'trip_distance': 1.26,\n",
    "#   'pickup_latitude': 40.760057,\n",
    "#   'pickup_longitude': -73.983502,\n",
    "#   'distance_from_selected': 0.0018118976240381972},\n",
    "#  {'trip_distance': 0.0,\n",
    "#   'pickup_latitude': 40.760644,\n",
    "#   'pickup_longitude': -73.984531,\n",
    "#   'distance_from_selected': 0.002067074502774709},\n",
    "#  {'trip_distance': 1.72,\n",
    "#   'pickup_latitude': 40.762107,\n",
    "#   'pickup_longitude': -73.98479,\n",
    "#   'distance_from_selected': 0.0020684557041472677}]"
   ]
  },
  {
   "cell_type": "markdown",
   "metadata": {},
   "source": [
    "Looking at the `distance_from_selected` it appears that our our trips are still fairly close to our selected trip.  Notice that most of the data is within a distance of .002 away, so going to the top 7 nearest neighbors didn't seem to give us neighbors too far from each other, which is a good sign.\n",
    "\n",
    "Still, it's hard to know what distance in latitude and longitude really look like, so let's map the data. "
   ]
  },
  {
   "cell_type": "code",
   "execution_count": 144,
   "metadata": {},
   "outputs": [
    {
     "data": {
      "text/html": [
       "<div style=\"width:100%;\"><div style=\"position:relative;width:100%;height:0;padding-bottom:60%;\"><iframe src=\"data:text/html;charset=utf-8;base64,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\" style=\"position:absolute;width:100%;height:100%;left:0;top:0;border:none !important;\" allowfullscreen webkitallowfullscreen mozallowfullscreen></iframe></div></div>"
      ],
      "text/plain": [
       "<folium.folium.Map at 0x7fa70ff9c198>"
      ]
     },
     "execution_count": 144,
     "metadata": {},
     "output_type": "execute_result"
    }
   ],
   "source": [
    "midtown_location = location(midtown_trip) # [40.76171, -73.98276]\n",
    "midtown_map = map_from(midtown_location, 16)\n",
    "closest_markers = markers_from_trips(seven_closest)\n",
    "\n",
    "add_markers(closest_markers, midtown_map)"
   ]
  },
  {
   "cell_type": "markdown",
   "metadata": {},
   "source": [
    "Ok.  These locations stay fairly close to our estimated location of 51st street and 7th Avenue.  So they could be a good estimate of a trip distance."
   ]
  },
  {
   "cell_type": "code",
   "execution_count": 145,
   "metadata": {},
   "outputs": [
    {
     "data": {
      "text/plain": [
       "2.009"
      ]
     },
     "execution_count": 145,
     "metadata": {},
     "output_type": "execute_result"
    }
   ],
   "source": [
    "mean_distance(seven_closest) # 2.009"
   ]
  },
  {
   "cell_type": "markdown",
   "metadata": {},
   "source": [
    "Ok, now let's try a different location"
   ]
  },
  {
   "cell_type": "code",
   "execution_count": 146,
   "metadata": {},
   "outputs": [],
   "source": [
    "charging_bull_closest = nearest_neighbors({'pickup_latitude': 40.7049, 'pickup_longitude': -74.0137}, cleaned_trips, number = 12)"
   ]
  },
  {
   "cell_type": "code",
   "execution_count": 147,
   "metadata": {
    "scrolled": true
   },
   "outputs": [
    {
     "data": {
      "text/plain": [
       "3.145"
      ]
     },
     "execution_count": 147,
     "metadata": {},
     "output_type": "execute_result"
    }
   ],
   "source": [
    "mean_distance(charging_bull_closest) # 3.145"
   ]
  },
  {
   "cell_type": "markdown",
   "metadata": {},
   "source": [
    "Ok, so there appears to be a significant difference between choosing a location near Times Square versus choosing a location at Wall Street."
   ]
  },
  {
   "cell_type": "markdown",
   "metadata": {},
   "source": [
    "### Summary"
   ]
  },
  {
   "cell_type": "markdown",
   "metadata": {},
   "source": [
    "In this lab, we used the nearest neighbors function to predict the length of a taxi ride.  To do so, we selected a location, then found a number of taxi rides closest to that location, and finally took the average trip lengths of the nearest taxi rides to find an estimate of the new ride's trip length.  You can see that even with just a little bit of math and programming we can begin to make meaningful predictions with data."
   ]
  }
 ],
 "metadata": {
  "kernelspec": {
   "display_name": "Python 3",
   "language": "python",
   "name": "python3"
  },
  "language_info": {
   "codemirror_mode": {
    "name": "ipython",
    "version": 3
   },
   "file_extension": ".py",
   "mimetype": "text/x-python",
   "name": "python",
   "nbconvert_exporter": "python",
   "pygments_lexer": "ipython3",
   "version": "3.6.4"
  }
 },
 "nbformat": 4,
 "nbformat_minor": 2
}
